{
  "nbformat": 4,
  "nbformat_minor": 0,
  "metadata": {
    "kernelspec": {
      "display_name": "Python 3",
      "language": "python",
      "name": "python3"
    },
    "language_info": {
      "codemirror_mode": {
        "name": "ipython",
        "version": 3
      },
      "file_extension": ".py",
      "mimetype": "text/x-python",
      "name": "python",
      "nbconvert_exporter": "python",
      "pygments_lexer": "ipython3",
      "version": "3.7.6"
    },
    "colab": {
      "name": "03116068-P2.ipynb",
      "provenance": [],
      "collapsed_sections": [
        "021xhsuy4rUa",
        "tjb-yXCJJ93P",
        "48wmx43ZKmbi",
        "x0sL3sJhKqrl",
        "9HWH0oMY4rUb",
        "dw9Wh_UZWZdj",
        "doHQmp994rUb",
        "hQUkbhybNl91",
        "zuibf7d9NkaG",
        "GxLahZ-i4rUc",
        "t-RRV5Z4QHut",
        "LKUsFUeoP1-D",
        "c9i_SftFVnJm",
        "ibe9jBk24rUd",
        "YjpTwOuO4rUd",
        "KN5TTQejqjWx",
        "ZI3I3oELttlM"
      ],
      "toc_visible": true
    },
    "widgets": {
      "application/vnd.jupyter.widget-state+json": {
        "eca96ae7b07a48cb87237e16425dd739": {
          "model_module": "@jupyter-widgets/controls",
          "model_name": "HBoxModel",
          "state": {
            "_view_name": "HBoxView",
            "_dom_classes": [],
            "_model_name": "HBoxModel",
            "_view_module": "@jupyter-widgets/controls",
            "_model_module_version": "1.5.0",
            "_view_count": null,
            "_view_module_version": "1.5.0",
            "box_style": "",
            "layout": "IPY_MODEL_842ae1c493f64baaa6873f83b9792ff7",
            "_model_module": "@jupyter-widgets/controls",
            "children": [
              "IPY_MODEL_2176c3bcd0d247a49202d2d0408d6490",
              "IPY_MODEL_5decfad4f22b402bb857ce653fe8937b"
            ]
          }
        },
        "842ae1c493f64baaa6873f83b9792ff7": {
          "model_module": "@jupyter-widgets/base",
          "model_name": "LayoutModel",
          "state": {
            "_view_name": "LayoutView",
            "grid_template_rows": null,
            "right": null,
            "justify_content": null,
            "_view_module": "@jupyter-widgets/base",
            "overflow": null,
            "_model_module_version": "1.2.0",
            "_view_count": null,
            "flex_flow": null,
            "width": null,
            "min_width": null,
            "border": null,
            "align_items": null,
            "bottom": null,
            "_model_module": "@jupyter-widgets/base",
            "top": null,
            "grid_column": null,
            "overflow_y": null,
            "overflow_x": null,
            "grid_auto_flow": null,
            "grid_area": null,
            "grid_template_columns": null,
            "flex": null,
            "_model_name": "LayoutModel",
            "justify_items": null,
            "grid_row": null,
            "max_height": null,
            "align_content": null,
            "visibility": null,
            "align_self": null,
            "height": null,
            "min_height": null,
            "padding": null,
            "grid_auto_rows": null,
            "grid_gap": null,
            "max_width": null,
            "order": null,
            "_view_module_version": "1.2.0",
            "grid_template_areas": null,
            "object_position": null,
            "object_fit": null,
            "grid_auto_columns": null,
            "margin": null,
            "display": null,
            "left": null
          }
        },
        "2176c3bcd0d247a49202d2d0408d6490": {
          "model_module": "@jupyter-widgets/controls",
          "model_name": "FloatProgressModel",
          "state": {
            "_view_name": "ProgressView",
            "style": "IPY_MODEL_304759efad1b4d36b1728391f95c4880",
            "_dom_classes": [],
            "description": "",
            "_model_name": "FloatProgressModel",
            "bar_style": "success",
            "max": 1,
            "_view_module": "@jupyter-widgets/controls",
            "_model_module_version": "1.5.0",
            "value": 1,
            "_view_count": null,
            "_view_module_version": "1.5.0",
            "orientation": "horizontal",
            "min": 0,
            "description_tooltip": null,
            "_model_module": "@jupyter-widgets/controls",
            "layout": "IPY_MODEL_3605ed64d915446f93c843b05ebca174"
          }
        },
        "5decfad4f22b402bb857ce653fe8937b": {
          "model_module": "@jupyter-widgets/controls",
          "model_name": "HTMLModel",
          "state": {
            "_view_name": "HTMLView",
            "style": "IPY_MODEL_36d52cddaf7447fdab089e69adca0696",
            "_dom_classes": [],
            "description": "",
            "_model_name": "HTMLModel",
            "placeholder": "​",
            "_view_module": "@jupyter-widgets/controls",
            "_model_module_version": "1.5.0",
            "value": " 5/? [00:01&lt;00:00,  4.97it/s]",
            "_view_count": null,
            "_view_module_version": "1.5.0",
            "description_tooltip": null,
            "_model_module": "@jupyter-widgets/controls",
            "layout": "IPY_MODEL_74c2bb9d8c194d16af580ffaa4367b73"
          }
        },
        "304759efad1b4d36b1728391f95c4880": {
          "model_module": "@jupyter-widgets/controls",
          "model_name": "ProgressStyleModel",
          "state": {
            "_view_name": "StyleView",
            "_model_name": "ProgressStyleModel",
            "description_width": "initial",
            "_view_module": "@jupyter-widgets/base",
            "_model_module_version": "1.5.0",
            "_view_count": null,
            "_view_module_version": "1.2.0",
            "bar_color": null,
            "_model_module": "@jupyter-widgets/controls"
          }
        },
        "3605ed64d915446f93c843b05ebca174": {
          "model_module": "@jupyter-widgets/base",
          "model_name": "LayoutModel",
          "state": {
            "_view_name": "LayoutView",
            "grid_template_rows": null,
            "right": null,
            "justify_content": null,
            "_view_module": "@jupyter-widgets/base",
            "overflow": null,
            "_model_module_version": "1.2.0",
            "_view_count": null,
            "flex_flow": null,
            "width": null,
            "min_width": null,
            "border": null,
            "align_items": null,
            "bottom": null,
            "_model_module": "@jupyter-widgets/base",
            "top": null,
            "grid_column": null,
            "overflow_y": null,
            "overflow_x": null,
            "grid_auto_flow": null,
            "grid_area": null,
            "grid_template_columns": null,
            "flex": null,
            "_model_name": "LayoutModel",
            "justify_items": null,
            "grid_row": null,
            "max_height": null,
            "align_content": null,
            "visibility": null,
            "align_self": null,
            "height": null,
            "min_height": null,
            "padding": null,
            "grid_auto_rows": null,
            "grid_gap": null,
            "max_width": null,
            "order": null,
            "_view_module_version": "1.2.0",
            "grid_template_areas": null,
            "object_position": null,
            "object_fit": null,
            "grid_auto_columns": null,
            "margin": null,
            "display": null,
            "left": null
          }
        },
        "36d52cddaf7447fdab089e69adca0696": {
          "model_module": "@jupyter-widgets/controls",
          "model_name": "DescriptionStyleModel",
          "state": {
            "_view_name": "StyleView",
            "_model_name": "DescriptionStyleModel",
            "description_width": "",
            "_view_module": "@jupyter-widgets/base",
            "_model_module_version": "1.5.0",
            "_view_count": null,
            "_view_module_version": "1.2.0",
            "_model_module": "@jupyter-widgets/controls"
          }
        },
        "74c2bb9d8c194d16af580ffaa4367b73": {
          "model_module": "@jupyter-widgets/base",
          "model_name": "LayoutModel",
          "state": {
            "_view_name": "LayoutView",
            "grid_template_rows": null,
            "right": null,
            "justify_content": null,
            "_view_module": "@jupyter-widgets/base",
            "overflow": null,
            "_model_module_version": "1.2.0",
            "_view_count": null,
            "flex_flow": null,
            "width": null,
            "min_width": null,
            "border": null,
            "align_items": null,
            "bottom": null,
            "_model_module": "@jupyter-widgets/base",
            "top": null,
            "grid_column": null,
            "overflow_y": null,
            "overflow_x": null,
            "grid_auto_flow": null,
            "grid_area": null,
            "grid_template_columns": null,
            "flex": null,
            "_model_name": "LayoutModel",
            "justify_items": null,
            "grid_row": null,
            "max_height": null,
            "align_content": null,
            "visibility": null,
            "align_self": null,
            "height": null,
            "min_height": null,
            "padding": null,
            "grid_auto_rows": null,
            "grid_gap": null,
            "max_width": null,
            "order": null,
            "_view_module_version": "1.2.0",
            "grid_template_areas": null,
            "object_position": null,
            "object_fit": null,
            "grid_auto_columns": null,
            "margin": null,
            "display": null,
            "left": null
          }
        },
        "da9cd0b7be9947cb94fab4a48884694c": {
          "model_module": "@jupyter-widgets/controls",
          "model_name": "HBoxModel",
          "state": {
            "_view_name": "HBoxView",
            "_dom_classes": [],
            "_model_name": "HBoxModel",
            "_view_module": "@jupyter-widgets/controls",
            "_model_module_version": "1.5.0",
            "_view_count": null,
            "_view_module_version": "1.5.0",
            "box_style": "",
            "layout": "IPY_MODEL_266539ad717d441987fcb361acdefd3b",
            "_model_module": "@jupyter-widgets/controls",
            "children": [
              "IPY_MODEL_8f68ec668c484446bfe7ddf2b6e66226",
              "IPY_MODEL_beee249a281243b5914e5dd54aceb07e"
            ]
          }
        },
        "266539ad717d441987fcb361acdefd3b": {
          "model_module": "@jupyter-widgets/base",
          "model_name": "LayoutModel",
          "state": {
            "_view_name": "LayoutView",
            "grid_template_rows": null,
            "right": null,
            "justify_content": null,
            "_view_module": "@jupyter-widgets/base",
            "overflow": null,
            "_model_module_version": "1.2.0",
            "_view_count": null,
            "flex_flow": null,
            "width": null,
            "min_width": null,
            "border": null,
            "align_items": null,
            "bottom": null,
            "_model_module": "@jupyter-widgets/base",
            "top": null,
            "grid_column": null,
            "overflow_y": null,
            "overflow_x": null,
            "grid_auto_flow": null,
            "grid_area": null,
            "grid_template_columns": null,
            "flex": null,
            "_model_name": "LayoutModel",
            "justify_items": null,
            "grid_row": null,
            "max_height": null,
            "align_content": null,
            "visibility": null,
            "align_self": null,
            "height": null,
            "min_height": null,
            "padding": null,
            "grid_auto_rows": null,
            "grid_gap": null,
            "max_width": null,
            "order": null,
            "_view_module_version": "1.2.0",
            "grid_template_areas": null,
            "object_position": null,
            "object_fit": null,
            "grid_auto_columns": null,
            "margin": null,
            "display": null,
            "left": null
          }
        },
        "8f68ec668c484446bfe7ddf2b6e66226": {
          "model_module": "@jupyter-widgets/controls",
          "model_name": "FloatProgressModel",
          "state": {
            "_view_name": "ProgressView",
            "style": "IPY_MODEL_41766572d01443a5bffeff3a1d994a9d",
            "_dom_classes": [],
            "description": "",
            "_model_name": "FloatProgressModel",
            "bar_style": "success",
            "max": 1,
            "_view_module": "@jupyter-widgets/controls",
            "_model_module_version": "1.5.0",
            "value": 1,
            "_view_count": null,
            "_view_module_version": "1.5.0",
            "orientation": "horizontal",
            "min": 0,
            "description_tooltip": null,
            "_model_module": "@jupyter-widgets/controls",
            "layout": "IPY_MODEL_d585eb3fe6b747358cf1c36b0f0fc764"
          }
        },
        "beee249a281243b5914e5dd54aceb07e": {
          "model_module": "@jupyter-widgets/controls",
          "model_name": "HTMLModel",
          "state": {
            "_view_name": "HTMLView",
            "style": "IPY_MODEL_0c761f7b26584d7e915d7f163608a7e3",
            "_dom_classes": [],
            "description": "",
            "_model_name": "HTMLModel",
            "placeholder": "​",
            "_view_module": "@jupyter-widgets/controls",
            "_model_module_version": "1.5.0",
            "value": " 5/? [00:13&lt;00:00,  2.64s/it]",
            "_view_count": null,
            "_view_module_version": "1.5.0",
            "description_tooltip": null,
            "_model_module": "@jupyter-widgets/controls",
            "layout": "IPY_MODEL_e224bd60c33e4ab9a511aef6cd1e2dc8"
          }
        },
        "41766572d01443a5bffeff3a1d994a9d": {
          "model_module": "@jupyter-widgets/controls",
          "model_name": "ProgressStyleModel",
          "state": {
            "_view_name": "StyleView",
            "_model_name": "ProgressStyleModel",
            "description_width": "initial",
            "_view_module": "@jupyter-widgets/base",
            "_model_module_version": "1.5.0",
            "_view_count": null,
            "_view_module_version": "1.2.0",
            "bar_color": null,
            "_model_module": "@jupyter-widgets/controls"
          }
        },
        "d585eb3fe6b747358cf1c36b0f0fc764": {
          "model_module": "@jupyter-widgets/base",
          "model_name": "LayoutModel",
          "state": {
            "_view_name": "LayoutView",
            "grid_template_rows": null,
            "right": null,
            "justify_content": null,
            "_view_module": "@jupyter-widgets/base",
            "overflow": null,
            "_model_module_version": "1.2.0",
            "_view_count": null,
            "flex_flow": null,
            "width": null,
            "min_width": null,
            "border": null,
            "align_items": null,
            "bottom": null,
            "_model_module": "@jupyter-widgets/base",
            "top": null,
            "grid_column": null,
            "overflow_y": null,
            "overflow_x": null,
            "grid_auto_flow": null,
            "grid_area": null,
            "grid_template_columns": null,
            "flex": null,
            "_model_name": "LayoutModel",
            "justify_items": null,
            "grid_row": null,
            "max_height": null,
            "align_content": null,
            "visibility": null,
            "align_self": null,
            "height": null,
            "min_height": null,
            "padding": null,
            "grid_auto_rows": null,
            "grid_gap": null,
            "max_width": null,
            "order": null,
            "_view_module_version": "1.2.0",
            "grid_template_areas": null,
            "object_position": null,
            "object_fit": null,
            "grid_auto_columns": null,
            "margin": null,
            "display": null,
            "left": null
          }
        },
        "0c761f7b26584d7e915d7f163608a7e3": {
          "model_module": "@jupyter-widgets/controls",
          "model_name": "DescriptionStyleModel",
          "state": {
            "_view_name": "StyleView",
            "_model_name": "DescriptionStyleModel",
            "description_width": "",
            "_view_module": "@jupyter-widgets/base",
            "_model_module_version": "1.5.0",
            "_view_count": null,
            "_view_module_version": "1.2.0",
            "_model_module": "@jupyter-widgets/controls"
          }
        },
        "e224bd60c33e4ab9a511aef6cd1e2dc8": {
          "model_module": "@jupyter-widgets/base",
          "model_name": "LayoutModel",
          "state": {
            "_view_name": "LayoutView",
            "grid_template_rows": null,
            "right": null,
            "justify_content": null,
            "_view_module": "@jupyter-widgets/base",
            "overflow": null,
            "_model_module_version": "1.2.0",
            "_view_count": null,
            "flex_flow": null,
            "width": null,
            "min_width": null,
            "border": null,
            "align_items": null,
            "bottom": null,
            "_model_module": "@jupyter-widgets/base",
            "top": null,
            "grid_column": null,
            "overflow_y": null,
            "overflow_x": null,
            "grid_auto_flow": null,
            "grid_area": null,
            "grid_template_columns": null,
            "flex": null,
            "_model_name": "LayoutModel",
            "justify_items": null,
            "grid_row": null,
            "max_height": null,
            "align_content": null,
            "visibility": null,
            "align_self": null,
            "height": null,
            "min_height": null,
            "padding": null,
            "grid_auto_rows": null,
            "grid_gap": null,
            "max_width": null,
            "order": null,
            "_view_module_version": "1.2.0",
            "grid_template_areas": null,
            "object_position": null,
            "object_fit": null,
            "grid_auto_columns": null,
            "margin": null,
            "display": null,
            "left": null
          }
        },
        "15165dcbc2ad42aca44345555411a21d": {
          "model_module": "@jupyter-widgets/controls",
          "model_name": "HBoxModel",
          "state": {
            "_view_name": "HBoxView",
            "_dom_classes": [],
            "_model_name": "HBoxModel",
            "_view_module": "@jupyter-widgets/controls",
            "_model_module_version": "1.5.0",
            "_view_count": null,
            "_view_module_version": "1.5.0",
            "box_style": "",
            "layout": "IPY_MODEL_7159a4169ba6440db0ecd2e0df6cf015",
            "_model_module": "@jupyter-widgets/controls",
            "children": [
              "IPY_MODEL_32e43ed3fa764dc1a13caabce21e6d1d",
              "IPY_MODEL_dfc1e4d188b9403ebfed423895ce1159"
            ]
          }
        },
        "7159a4169ba6440db0ecd2e0df6cf015": {
          "model_module": "@jupyter-widgets/base",
          "model_name": "LayoutModel",
          "state": {
            "_view_name": "LayoutView",
            "grid_template_rows": null,
            "right": null,
            "justify_content": null,
            "_view_module": "@jupyter-widgets/base",
            "overflow": null,
            "_model_module_version": "1.2.0",
            "_view_count": null,
            "flex_flow": null,
            "width": null,
            "min_width": null,
            "border": null,
            "align_items": null,
            "bottom": null,
            "_model_module": "@jupyter-widgets/base",
            "top": null,
            "grid_column": null,
            "overflow_y": null,
            "overflow_x": null,
            "grid_auto_flow": null,
            "grid_area": null,
            "grid_template_columns": null,
            "flex": null,
            "_model_name": "LayoutModel",
            "justify_items": null,
            "grid_row": null,
            "max_height": null,
            "align_content": null,
            "visibility": null,
            "align_self": null,
            "height": null,
            "min_height": null,
            "padding": null,
            "grid_auto_rows": null,
            "grid_gap": null,
            "max_width": null,
            "order": null,
            "_view_module_version": "1.2.0",
            "grid_template_areas": null,
            "object_position": null,
            "object_fit": null,
            "grid_auto_columns": null,
            "margin": null,
            "display": null,
            "left": null
          }
        },
        "32e43ed3fa764dc1a13caabce21e6d1d": {
          "model_module": "@jupyter-widgets/controls",
          "model_name": "FloatProgressModel",
          "state": {
            "_view_name": "ProgressView",
            "style": "IPY_MODEL_1697f8c296324bb4b48e8988fe8c1804",
            "_dom_classes": [],
            "description": "",
            "_model_name": "FloatProgressModel",
            "bar_style": "success",
            "max": 1,
            "_view_module": "@jupyter-widgets/controls",
            "_model_module_version": "1.5.0",
            "value": 1,
            "_view_count": null,
            "_view_module_version": "1.5.0",
            "orientation": "horizontal",
            "min": 0,
            "description_tooltip": null,
            "_model_module": "@jupyter-widgets/controls",
            "layout": "IPY_MODEL_e36f7908259e40839a88840ceee08729"
          }
        },
        "dfc1e4d188b9403ebfed423895ce1159": {
          "model_module": "@jupyter-widgets/controls",
          "model_name": "HTMLModel",
          "state": {
            "_view_name": "HTMLView",
            "style": "IPY_MODEL_f6520d7b6b044eedacb434cccf87aaf4",
            "_dom_classes": [],
            "description": "",
            "_model_name": "HTMLModel",
            "placeholder": "​",
            "_view_module": "@jupyter-widgets/controls",
            "_model_module_version": "1.5.0",
            "value": " 5/? [00:06&lt;00:00,  1.26s/it]",
            "_view_count": null,
            "_view_module_version": "1.5.0",
            "description_tooltip": null,
            "_model_module": "@jupyter-widgets/controls",
            "layout": "IPY_MODEL_bc87b11f25d74997a4dbb48f0774d85e"
          }
        },
        "1697f8c296324bb4b48e8988fe8c1804": {
          "model_module": "@jupyter-widgets/controls",
          "model_name": "ProgressStyleModel",
          "state": {
            "_view_name": "StyleView",
            "_model_name": "ProgressStyleModel",
            "description_width": "initial",
            "_view_module": "@jupyter-widgets/base",
            "_model_module_version": "1.5.0",
            "_view_count": null,
            "_view_module_version": "1.2.0",
            "bar_color": null,
            "_model_module": "@jupyter-widgets/controls"
          }
        },
        "e36f7908259e40839a88840ceee08729": {
          "model_module": "@jupyter-widgets/base",
          "model_name": "LayoutModel",
          "state": {
            "_view_name": "LayoutView",
            "grid_template_rows": null,
            "right": null,
            "justify_content": null,
            "_view_module": "@jupyter-widgets/base",
            "overflow": null,
            "_model_module_version": "1.2.0",
            "_view_count": null,
            "flex_flow": null,
            "width": null,
            "min_width": null,
            "border": null,
            "align_items": null,
            "bottom": null,
            "_model_module": "@jupyter-widgets/base",
            "top": null,
            "grid_column": null,
            "overflow_y": null,
            "overflow_x": null,
            "grid_auto_flow": null,
            "grid_area": null,
            "grid_template_columns": null,
            "flex": null,
            "_model_name": "LayoutModel",
            "justify_items": null,
            "grid_row": null,
            "max_height": null,
            "align_content": null,
            "visibility": null,
            "align_self": null,
            "height": null,
            "min_height": null,
            "padding": null,
            "grid_auto_rows": null,
            "grid_gap": null,
            "max_width": null,
            "order": null,
            "_view_module_version": "1.2.0",
            "grid_template_areas": null,
            "object_position": null,
            "object_fit": null,
            "grid_auto_columns": null,
            "margin": null,
            "display": null,
            "left": null
          }
        },
        "f6520d7b6b044eedacb434cccf87aaf4": {
          "model_module": "@jupyter-widgets/controls",
          "model_name": "DescriptionStyleModel",
          "state": {
            "_view_name": "StyleView",
            "_model_name": "DescriptionStyleModel",
            "description_width": "",
            "_view_module": "@jupyter-widgets/base",
            "_model_module_version": "1.5.0",
            "_view_count": null,
            "_view_module_version": "1.2.0",
            "_model_module": "@jupyter-widgets/controls"
          }
        },
        "bc87b11f25d74997a4dbb48f0774d85e": {
          "model_module": "@jupyter-widgets/base",
          "model_name": "LayoutModel",
          "state": {
            "_view_name": "LayoutView",
            "grid_template_rows": null,
            "right": null,
            "justify_content": null,
            "_view_module": "@jupyter-widgets/base",
            "overflow": null,
            "_model_module_version": "1.2.0",
            "_view_count": null,
            "flex_flow": null,
            "width": null,
            "min_width": null,
            "border": null,
            "align_items": null,
            "bottom": null,
            "_model_module": "@jupyter-widgets/base",
            "top": null,
            "grid_column": null,
            "overflow_y": null,
            "overflow_x": null,
            "grid_auto_flow": null,
            "grid_area": null,
            "grid_template_columns": null,
            "flex": null,
            "_model_name": "LayoutModel",
            "justify_items": null,
            "grid_row": null,
            "max_height": null,
            "align_content": null,
            "visibility": null,
            "align_self": null,
            "height": null,
            "min_height": null,
            "padding": null,
            "grid_auto_rows": null,
            "grid_gap": null,
            "max_width": null,
            "order": null,
            "_view_module_version": "1.2.0",
            "grid_template_areas": null,
            "object_position": null,
            "object_fit": null,
            "grid_auto_columns": null,
            "margin": null,
            "display": null,
            "left": null
          }
        },
        "ba8fcada080f40d2b991bb77e8dc8e33": {
          "model_module": "@jupyter-widgets/controls",
          "model_name": "HBoxModel",
          "state": {
            "_view_name": "HBoxView",
            "_dom_classes": [],
            "_model_name": "HBoxModel",
            "_view_module": "@jupyter-widgets/controls",
            "_model_module_version": "1.5.0",
            "_view_count": null,
            "_view_module_version": "1.5.0",
            "box_style": "",
            "layout": "IPY_MODEL_c422ee2ec7444d0ba1606935f3575dfc",
            "_model_module": "@jupyter-widgets/controls",
            "children": [
              "IPY_MODEL_97e66a990f3c45ec9fd5048509ff4c9b",
              "IPY_MODEL_d5c40fd6c9964968bcf1edf3c0e1f5a5"
            ]
          }
        },
        "c422ee2ec7444d0ba1606935f3575dfc": {
          "model_module": "@jupyter-widgets/base",
          "model_name": "LayoutModel",
          "state": {
            "_view_name": "LayoutView",
            "grid_template_rows": null,
            "right": null,
            "justify_content": null,
            "_view_module": "@jupyter-widgets/base",
            "overflow": null,
            "_model_module_version": "1.2.0",
            "_view_count": null,
            "flex_flow": null,
            "width": null,
            "min_width": null,
            "border": null,
            "align_items": null,
            "bottom": null,
            "_model_module": "@jupyter-widgets/base",
            "top": null,
            "grid_column": null,
            "overflow_y": null,
            "overflow_x": null,
            "grid_auto_flow": null,
            "grid_area": null,
            "grid_template_columns": null,
            "flex": null,
            "_model_name": "LayoutModel",
            "justify_items": null,
            "grid_row": null,
            "max_height": null,
            "align_content": null,
            "visibility": null,
            "align_self": null,
            "height": null,
            "min_height": null,
            "padding": null,
            "grid_auto_rows": null,
            "grid_gap": null,
            "max_width": null,
            "order": null,
            "_view_module_version": "1.2.0",
            "grid_template_areas": null,
            "object_position": null,
            "object_fit": null,
            "grid_auto_columns": null,
            "margin": null,
            "display": null,
            "left": null
          }
        },
        "97e66a990f3c45ec9fd5048509ff4c9b": {
          "model_module": "@jupyter-widgets/controls",
          "model_name": "FloatProgressModel",
          "state": {
            "_view_name": "ProgressView",
            "style": "IPY_MODEL_06588d72e7b340caa2755b2054f27a67",
            "_dom_classes": [],
            "description": "",
            "_model_name": "FloatProgressModel",
            "bar_style": "success",
            "max": 1,
            "_view_module": "@jupyter-widgets/controls",
            "_model_module_version": "1.5.0",
            "value": 1,
            "_view_count": null,
            "_view_module_version": "1.5.0",
            "orientation": "horizontal",
            "min": 0,
            "description_tooltip": null,
            "_model_module": "@jupyter-widgets/controls",
            "layout": "IPY_MODEL_5ee959dab8f84713861a9d4e189ebe36"
          }
        },
        "d5c40fd6c9964968bcf1edf3c0e1f5a5": {
          "model_module": "@jupyter-widgets/controls",
          "model_name": "HTMLModel",
          "state": {
            "_view_name": "HTMLView",
            "style": "IPY_MODEL_d5f53448465d436ab6be2655a1c1961e",
            "_dom_classes": [],
            "description": "",
            "_model_name": "HTMLModel",
            "placeholder": "​",
            "_view_module": "@jupyter-widgets/controls",
            "_model_module_version": "1.5.0",
            "value": " 7/? [00:01&lt;00:00,  4.48it/s]",
            "_view_count": null,
            "_view_module_version": "1.5.0",
            "description_tooltip": null,
            "_model_module": "@jupyter-widgets/controls",
            "layout": "IPY_MODEL_4263ac8c152448458f94b09bd949e182"
          }
        },
        "06588d72e7b340caa2755b2054f27a67": {
          "model_module": "@jupyter-widgets/controls",
          "model_name": "ProgressStyleModel",
          "state": {
            "_view_name": "StyleView",
            "_model_name": "ProgressStyleModel",
            "description_width": "initial",
            "_view_module": "@jupyter-widgets/base",
            "_model_module_version": "1.5.0",
            "_view_count": null,
            "_view_module_version": "1.2.0",
            "bar_color": null,
            "_model_module": "@jupyter-widgets/controls"
          }
        },
        "5ee959dab8f84713861a9d4e189ebe36": {
          "model_module": "@jupyter-widgets/base",
          "model_name": "LayoutModel",
          "state": {
            "_view_name": "LayoutView",
            "grid_template_rows": null,
            "right": null,
            "justify_content": null,
            "_view_module": "@jupyter-widgets/base",
            "overflow": null,
            "_model_module_version": "1.2.0",
            "_view_count": null,
            "flex_flow": null,
            "width": null,
            "min_width": null,
            "border": null,
            "align_items": null,
            "bottom": null,
            "_model_module": "@jupyter-widgets/base",
            "top": null,
            "grid_column": null,
            "overflow_y": null,
            "overflow_x": null,
            "grid_auto_flow": null,
            "grid_area": null,
            "grid_template_columns": null,
            "flex": null,
            "_model_name": "LayoutModel",
            "justify_items": null,
            "grid_row": null,
            "max_height": null,
            "align_content": null,
            "visibility": null,
            "align_self": null,
            "height": null,
            "min_height": null,
            "padding": null,
            "grid_auto_rows": null,
            "grid_gap": null,
            "max_width": null,
            "order": null,
            "_view_module_version": "1.2.0",
            "grid_template_areas": null,
            "object_position": null,
            "object_fit": null,
            "grid_auto_columns": null,
            "margin": null,
            "display": null,
            "left": null
          }
        },
        "d5f53448465d436ab6be2655a1c1961e": {
          "model_module": "@jupyter-widgets/controls",
          "model_name": "DescriptionStyleModel",
          "state": {
            "_view_name": "StyleView",
            "_model_name": "DescriptionStyleModel",
            "description_width": "",
            "_view_module": "@jupyter-widgets/base",
            "_model_module_version": "1.5.0",
            "_view_count": null,
            "_view_module_version": "1.2.0",
            "_model_module": "@jupyter-widgets/controls"
          }
        },
        "4263ac8c152448458f94b09bd949e182": {
          "model_module": "@jupyter-widgets/base",
          "model_name": "LayoutModel",
          "state": {
            "_view_name": "LayoutView",
            "grid_template_rows": null,
            "right": null,
            "justify_content": null,
            "_view_module": "@jupyter-widgets/base",
            "overflow": null,
            "_model_module_version": "1.2.0",
            "_view_count": null,
            "flex_flow": null,
            "width": null,
            "min_width": null,
            "border": null,
            "align_items": null,
            "bottom": null,
            "_model_module": "@jupyter-widgets/base",
            "top": null,
            "grid_column": null,
            "overflow_y": null,
            "overflow_x": null,
            "grid_auto_flow": null,
            "grid_area": null,
            "grid_template_columns": null,
            "flex": null,
            "_model_name": "LayoutModel",
            "justify_items": null,
            "grid_row": null,
            "max_height": null,
            "align_content": null,
            "visibility": null,
            "align_self": null,
            "height": null,
            "min_height": null,
            "padding": null,
            "grid_auto_rows": null,
            "grid_gap": null,
            "max_width": null,
            "order": null,
            "_view_module_version": "1.2.0",
            "grid_template_areas": null,
            "object_position": null,
            "object_fit": null,
            "grid_auto_columns": null,
            "margin": null,
            "display": null,
            "left": null
          }
        },
        "58bfc834fd6843f9a54057be74b178c4": {
          "model_module": "@jupyter-widgets/controls",
          "model_name": "HBoxModel",
          "state": {
            "_view_name": "HBoxView",
            "_dom_classes": [],
            "_model_name": "HBoxModel",
            "_view_module": "@jupyter-widgets/controls",
            "_model_module_version": "1.5.0",
            "_view_count": null,
            "_view_module_version": "1.5.0",
            "box_style": "",
            "layout": "IPY_MODEL_1f34049c43684fa19832667f2b4300d6",
            "_model_module": "@jupyter-widgets/controls",
            "children": [
              "IPY_MODEL_886cc0b1cda944929cb89fb9f0b2152d",
              "IPY_MODEL_2c769b93e26c4afeb92cb2eff8eecaf6"
            ]
          }
        },
        "1f34049c43684fa19832667f2b4300d6": {
          "model_module": "@jupyter-widgets/base",
          "model_name": "LayoutModel",
          "state": {
            "_view_name": "LayoutView",
            "grid_template_rows": null,
            "right": null,
            "justify_content": null,
            "_view_module": "@jupyter-widgets/base",
            "overflow": null,
            "_model_module_version": "1.2.0",
            "_view_count": null,
            "flex_flow": null,
            "width": null,
            "min_width": null,
            "border": null,
            "align_items": null,
            "bottom": null,
            "_model_module": "@jupyter-widgets/base",
            "top": null,
            "grid_column": null,
            "overflow_y": null,
            "overflow_x": null,
            "grid_auto_flow": null,
            "grid_area": null,
            "grid_template_columns": null,
            "flex": null,
            "_model_name": "LayoutModel",
            "justify_items": null,
            "grid_row": null,
            "max_height": null,
            "align_content": null,
            "visibility": null,
            "align_self": null,
            "height": null,
            "min_height": null,
            "padding": null,
            "grid_auto_rows": null,
            "grid_gap": null,
            "max_width": null,
            "order": null,
            "_view_module_version": "1.2.0",
            "grid_template_areas": null,
            "object_position": null,
            "object_fit": null,
            "grid_auto_columns": null,
            "margin": null,
            "display": null,
            "left": null
          }
        },
        "886cc0b1cda944929cb89fb9f0b2152d": {
          "model_module": "@jupyter-widgets/controls",
          "model_name": "FloatProgressModel",
          "state": {
            "_view_name": "ProgressView",
            "style": "IPY_MODEL_e65009b6463c48b4bd348ad8f4a03954",
            "_dom_classes": [],
            "description": "",
            "_model_name": "FloatProgressModel",
            "bar_style": "info",
            "max": 1,
            "_view_module": "@jupyter-widgets/controls",
            "_model_module_version": "1.5.0",
            "value": 1,
            "_view_count": null,
            "_view_module_version": "1.5.0",
            "orientation": "horizontal",
            "min": 0,
            "description_tooltip": null,
            "_model_module": "@jupyter-widgets/controls",
            "layout": "IPY_MODEL_f12b2f8fb3fd47149c1fd339da3391bb"
          }
        },
        "2c769b93e26c4afeb92cb2eff8eecaf6": {
          "model_module": "@jupyter-widgets/controls",
          "model_name": "HTMLModel",
          "state": {
            "_view_name": "HTMLView",
            "style": "IPY_MODEL_2e9481a8a06143ad8d86eba5a21bbc97",
            "_dom_classes": [],
            "description": "",
            "_model_name": "HTMLModel",
            "placeholder": "​",
            "_view_module": "@jupyter-widgets/controls",
            "_model_module_version": "1.5.0",
            "value": " 60/? [00:07&lt;00:00,  7.60it/s]",
            "_view_count": null,
            "_view_module_version": "1.5.0",
            "description_tooltip": null,
            "_model_module": "@jupyter-widgets/controls",
            "layout": "IPY_MODEL_be26ed24e31f4409b7c520e9a3b0b301"
          }
        },
        "e65009b6463c48b4bd348ad8f4a03954": {
          "model_module": "@jupyter-widgets/controls",
          "model_name": "ProgressStyleModel",
          "state": {
            "_view_name": "StyleView",
            "_model_name": "ProgressStyleModel",
            "description_width": "initial",
            "_view_module": "@jupyter-widgets/base",
            "_model_module_version": "1.5.0",
            "_view_count": null,
            "_view_module_version": "1.2.0",
            "bar_color": null,
            "_model_module": "@jupyter-widgets/controls"
          }
        },
        "f12b2f8fb3fd47149c1fd339da3391bb": {
          "model_module": "@jupyter-widgets/base",
          "model_name": "LayoutModel",
          "state": {
            "_view_name": "LayoutView",
            "grid_template_rows": null,
            "right": null,
            "justify_content": null,
            "_view_module": "@jupyter-widgets/base",
            "overflow": null,
            "_model_module_version": "1.2.0",
            "_view_count": null,
            "flex_flow": null,
            "width": null,
            "min_width": null,
            "border": null,
            "align_items": null,
            "bottom": null,
            "_model_module": "@jupyter-widgets/base",
            "top": null,
            "grid_column": null,
            "overflow_y": null,
            "overflow_x": null,
            "grid_auto_flow": null,
            "grid_area": null,
            "grid_template_columns": null,
            "flex": null,
            "_model_name": "LayoutModel",
            "justify_items": null,
            "grid_row": null,
            "max_height": null,
            "align_content": null,
            "visibility": null,
            "align_self": null,
            "height": null,
            "min_height": null,
            "padding": null,
            "grid_auto_rows": null,
            "grid_gap": null,
            "max_width": null,
            "order": null,
            "_view_module_version": "1.2.0",
            "grid_template_areas": null,
            "object_position": null,
            "object_fit": null,
            "grid_auto_columns": null,
            "margin": null,
            "display": null,
            "left": null
          }
        },
        "2e9481a8a06143ad8d86eba5a21bbc97": {
          "model_module": "@jupyter-widgets/controls",
          "model_name": "DescriptionStyleModel",
          "state": {
            "_view_name": "StyleView",
            "_model_name": "DescriptionStyleModel",
            "description_width": "",
            "_view_module": "@jupyter-widgets/base",
            "_model_module_version": "1.5.0",
            "_view_count": null,
            "_view_module_version": "1.2.0",
            "_model_module": "@jupyter-widgets/controls"
          }
        },
        "be26ed24e31f4409b7c520e9a3b0b301": {
          "model_module": "@jupyter-widgets/base",
          "model_name": "LayoutModel",
          "state": {
            "_view_name": "LayoutView",
            "grid_template_rows": null,
            "right": null,
            "justify_content": null,
            "_view_module": "@jupyter-widgets/base",
            "overflow": null,
            "_model_module_version": "1.2.0",
            "_view_count": null,
            "flex_flow": null,
            "width": null,
            "min_width": null,
            "border": null,
            "align_items": null,
            "bottom": null,
            "_model_module": "@jupyter-widgets/base",
            "top": null,
            "grid_column": null,
            "overflow_y": null,
            "overflow_x": null,
            "grid_auto_flow": null,
            "grid_area": null,
            "grid_template_columns": null,
            "flex": null,
            "_model_name": "LayoutModel",
            "justify_items": null,
            "grid_row": null,
            "max_height": null,
            "align_content": null,
            "visibility": null,
            "align_self": null,
            "height": null,
            "min_height": null,
            "padding": null,
            "grid_auto_rows": null,
            "grid_gap": null,
            "max_width": null,
            "order": null,
            "_view_module_version": "1.2.0",
            "grid_template_areas": null,
            "object_position": null,
            "object_fit": null,
            "grid_auto_columns": null,
            "margin": null,
            "display": null,
            "left": null
          }
        }
      }
    }
  },
  "cells": [
    {
      "cell_type": "markdown",
      "metadata": {
        "id": "YNwhI6744rUa"
      },
      "source": [
        "# Τεχνητή Νοημοσύνη: Εργαστηριακή Άσκηση 2\n",
        "---\n",
        "\n",
        "Ο στόχος της εργασίας είναι η κατασκευή ενός συστήματος προτάσεων (Recommendation System) για ταινίες. Οι προτάσεις αυτές θα πηγάζουν τόσο από τα χαρακτηριστικά της ταινίας όσο και από ορισμένες αξιολογήσεις του κάθε χρήστη.\n",
        "\n",
        "Στο παραδοτέο της άσκησης περιλαμβάνονται το παρόν notebook, ένα αρχείο με το όνομα movies_metadata.csv το όποιο περιέχει τα χαρακτηριστικά κάθε ταινίας όπως θέμα, σκηνοθέτης ηθοποιοί, λέξεις κλειδιά κ.α. από το imdb καθώς και τα αρχεία ratings.csv τα όποια περιέχουν πραγματικές αξιολογήσεις χρηστών, χωρισμένες σε train και σε test.\n",
        "</br></br>\n",
        "\n",
        "<img src=\"https://miro.medium.com/max/1132/1*N0-ikjPv4RUVvS-6KCgLPg.jpeg\" alt=\"recommender\">\n"
      ]
    },
    {
      "cell_type": "markdown",
      "metadata": {
        "id": "021xhsuy4rUa"
      },
      "source": [
        "# Εκφώνηση\n",
        "Στην παρούσα εργασία μας ζητήθηκε να μελετήσουμε και να υλοποιήσουμε τα παρακάτω:\n",
        "\n",
        "\n",
        "\n"
      ]
    },
    {
      "cell_type": "markdown",
      "metadata": {
        "id": "tjb-yXCJJ93P"
      },
      "source": [
        "## Μέρος 1\n",
        "Στο μέρος 1 και 2 θα ασχοληθείτε και θα εργαστείτε μόνο με το αρχείο movies_metadata.csv.\n",
        "\n"
      ]
    },
    {
      "cell_type": "markdown",
      "metadata": {
        "id": "Kic7j1eyWM18"
      },
      "source": [
        "### Ερώτημα 1α\n",
        "\n",
        "Αρχικά θα πρέπει, αφού μελετήσετε τη δομή και τα χαρακτηριστικά του αρχείου αυτού, να κατασκευάσετε μια βάση γνώσης για την Prolog η όποια ουσιαστικά θα αποτελεί τον κόσμο με τον όποιο θα εργαστείτε στην συνέχεια. Τα κατηγορήματα που θα δημιουργηθούν θα σας βοηθήσουν και στην κατασκευή του recommender και θα είναι της μορφής:\n",
        "\n",
        "```\n",
        "director(Movie, Director).\n",
        "genre(Movie, Genre).\n",
        "```\n",
        "### Ερώτημα 1β\n",
        "\n",
        "Αφού δημιουργήσετε τον κόσμο του προβλήματος, στη συνέχεια καλείστε να δημιουργήσετε, σε Prolog, απλούς κανόνες οι οποίοι θα βρίσκουν όλες τις ταινίες με:\n",
        "1.\tΚοινό θέμα (κάποιες λέξεις σχετικά με το genre κοινές)\n",
        "2.\tΑρκετά κοινό θέμα (κάποιες λιγότερες λέξεις σχετικά με το genre κοινές π.χ. 3)\n",
        "3.\tΣχετικά κοινό θέμα (λίγες λέξεις σχετικές με το genre κοινές π.χ. 1)\n",
        "4.\tΚοινός σκηνοθέτης\n",
        "5.\tΑκριβώς ίδια πλοκή (κάποιες λέξεις κλειδιά της πλοκής κοινές)\n",
        "6.\tΣχετικά ίδια πλοκή (κάποιες λιγότερες λέξεις κλειδιά κοινές)\n",
        "7.\tΊδιους τους βασικούς ηθοποιούς (και τους 3)\n",
        "8.\tΑρκετά ίδιους βασικούς ηθοποιούς (ορισμένους βασικούς ηθοποιούς κοινούς π.χ. 2)\n",
        "9.\tΣχετικά ίδιους ηθοποιούς (π.χ. 1 από τους 3)\n",
        "10.\tΊδια γλώσσα\n",
        "11.\tΕίναι έγχρωμες ή ασπρόμαυρες\n",
        "\n",
        "Αξίζει να σημειωθεί ότι στα παραπάνω μπορείτε να προσθέσετε περισσότερα ερωτήματα ή να αλλάξετε την κλιμακωσιμότητα των queries (πέρα από το ίδιο, αρκετά ίδιο, σχετικά ίδιο) που θα κατασκευάσετε(π.χ. μια κλίμακα από 1 στα 5 όπου αυτό είναι δυνατόν), μιας και αυτά στην συνέχεια θα χρησιμοποιηθούν για την λειτουργία του recommender. Έτσι μπορείτε να προσθέσετε queries με τα όποια μπορεί να παράγονται καλύτερες συστάσεις  (το αρχείο movie_metadata.csv περιέχει πολλές πληροφορίες ακόμα για κάθε ταινία όπως έτος κυκλοφορίας, βαθμολογία στο imdb, facebοok_likes κ.α.).\n",
        "\n",
        "Περισσότερες πληροφορίες για το dataset μπορείτε να διαβάσετε σε αυτό το [Link](https://www.kaggle.com/georgefila/movies-metadata)."
      ]
    },
    {
      "cell_type": "markdown",
      "metadata": {
        "id": "48wmx43ZKmbi"
      },
      "source": [
        "## Μέρος 2: Recommendation System\n",
        "\n",
        "\n",
        "\n"
      ]
    },
    {
      "cell_type": "markdown",
      "metadata": {
        "id": "HG_tCv6uWBK1"
      },
      "source": [
        "Στο σημείο αυτό καλείστε με βάση αυτά που κάνατε στο μέρος 1 να κατασκευάσετε queries τα όποια θα σας επιστρέφουν παρόμοιες (σε χαρακτηριστικά) ταινίες. Τα ερωτήματα αυτά θα είναι κλιμακούμενα, δηλαδή θα υπάρχουν ερωτήματα που επιστρέφουν αρκετά κοινές ταινίες αλλά και που επιστρέφουν λιγότερο και λιγότερο κοινές (σε μια κλίμακα π.χ. από 1 σε 5). Για παράδειγμα:\n",
        "\n",
        "```\n",
        "find_simmilar_movies_5(\"Pirates Of The Caribbean\", M).\n",
        "M = \"Pirates Of The Caribbean: On Stranger Tides\"\n",
        "M = \"The Chronicles Of Narnia\"\n",
        "M = \"Prince Of Persia: The Sands Of Time\"\n",
        "...\n",
        "```\n",
        "Για παράδειγμα, το παραπάνω ερώτημα θα επιστρέφει αρκετά κοινές σε περιεχόμενο ταινίες με την ταινια \"Pirates Of The Caribbean\". Θα υπάρχουν και αντίστοιχα ερωτήματα που θα βρίσκουν λιγότερο όμοιες ταινίες. Ο δείκτης ομοιότητας των ταινιών είναι αυθαίρετος και μπορείτε να τον ορίσετε εσείς όπως θέλετε, αρκεί να υπάρχει κάποια λογική σύνδεση με τα δεδομένα που περιέχονται στο αρχείο movies_metadata.csv. \n",
        "\n",
        "Συνεπώς η συνάρτηση που θα κάνει τις προτάσεις (recommendation) με είσοδο μια ταινία πρέπει να επιστρέφει-εκτυπώνει μια λίστα με τις προτεινόμενες ταινίες κατά φθίνουσα σειρά ομοιότητας. "
      ]
    },
    {
      "cell_type": "markdown",
      "metadata": {
        "id": "x0sL3sJhKqrl"
      },
      "source": [
        "## Μέρος 3: Recommendation System Με βάση τις προτιμήσεις - Αξιολογήσεις του χρήστη\n"
      ]
    },
    {
      "cell_type": "markdown",
      "metadata": {
        "id": "mVHOq7F8V9H-"
      },
      "source": [
        "Σε αυτό το σημείο θα εργαστείτε με τα αρχεία ratings τα όποια περιέχουν αξιολογήσεις (από 1 μέχρι 5) για τις παραπάνω ταινίες. Το προηγούμενο σύστημα συστάσεων προτείνει στον χρήστη ταινίες αποκλειστικά με βάση την ομοιότητά τους. Σε αυτό το σημείο θα γίνει μια αναβάθμιση του συστήματος έτσι ώστε να παράγονται καλύτερες  συστάσεις οι όποιες θα λαμβάνουν υπόψιν και τις προτιμήσεις του χρήστη, οι όποιες θα εξάγονται από τις αξιολογήσεις που έχει κάνει μέχρι στιγμής. \n",
        "\n",
        "Η εκπαίδευση του recommender θα γίνεται ως εξής:\n",
        "\n",
        "Για κάθε ταινία θα υπάρχει ένα score το όποιο αρχικά θε είναι ίσο με 0 και θα διαμορφώνεται από τις αξιολογήσεις κάθε user. Έτσι για έναν χρήστη με βάση τις αξιολογήσεις που υπάρχουν στο αρχείο train_ratings θα πρέπει:\n",
        "\n",
        "1.\tΓια κάθε ταινία που έχει βαθμολογήσει να βρίσκονται οι κοινές ταινίες ανά κλίμακα και στο μέχρι τώρα σκορ κάθε παρόμοιας ταινίας θα προστίθεται ένα βάρος το όποιο θα μπορούσε να είναι το ποσοστό ομοιότητας της ταινίας (δηλαδή ένα βάρος για κάθε κλίμακα) επί τον βαθμό που έχει βάλει ο χρήστης για την αρχική ταινία. Στη συνέχεια, ανάλογα με το σκορ που έχει σχηματιστεί για κάθε ταινία, θα επιλέγεται αν αυτή θα μπορούσε να είναι προτεινόμενη για τον χρήστη.\n",
        "\n",
        "Η λογική πίσω από την παραπάνω διαδικασία είναι ότι παρόμοιες ταινίες θα έχουν ανάλογο βαθμό. Για παράδειγμα αν ένας χρήστης έχει αξιολογήσει αρκετές  ταινίες οι όποιες είναι sci-fiction με 5/5 τότε μια ταίνια sci-fiction την όποια δεν έχει δεί λογικά θα του αρέσει και θα έπρεπε να την προτείνουμε.\n",
        "\n",
        "Μετά την εκπαίδευση του συστήματος σας καλείστε να δοκιμάσετε τον recommender που κατασκευάσατε στην πράξη. Για τον σκοπό αυτό θα φορτώσετε το αρχείο train_ratings.csv όπου περιέχονται οι αξιολογήσεις του ίδιου χρήστη για άλλες ταινίες. Το σύστημά σας πρέπει να προβλέπει αν μια ταινία θα πρέπει να προταθεί στον χρήστη. Μια ταίνια θα έπρεπε να έχει προταθεί στον  χρήστη, αν έχει βαθμό μεγαλύτερο του 3. Συνεπώς για την επίβλεψη του συστήματός σας θα πρέπει για κάθε μια από τις ταινίες του αρχείου test_ratings.csv να επιστρέφεται 1 ή 0 αν η ταινία θα έπαιρνε βαθμό μεγαλύτερο του 3 ή όχι, δηλαδή αν θα έπρεπε να την είχαμε προτείνει ή όχι.\n",
        "\n",
        "Στην συνέχεια, σε συνδιασμό με τις πραγματικές απαντήσεις του χρήστη θα αξιολογήσετε το σύστημά σας χρησιμοποιόντας τις μετρικές: precision, recall, f1 οι οποίες είναι οι πλέον γνωστές μετρικές και ευρέως χρησιμοποιούμενες τεχνικές για την επίβλεψη-μέτρηση απόδοσης ανάλογων συστημάτων.\n",
        "\n",
        "1. Precision: Δείχνει πόσο ακριβές είναι το σύστημα. Υπολογίζει πόσα από τα στιγμιότυπα τα όποια προβλέψαμε ότι ανήκουν σε μια κλάση όντως ανήκουν σε αυτή. Η μετρική αυτή μας δίνει μια εικόνα σχετικά με τον αριθμό των ταινίων που προβλέψαμε ως προτεινόμενες ενώ δεν θα έπρεπε.\n",
        "\n",
        "2. Recall: Υπολογίζει πόσα από τα στιγμιότυπα που ανήκουν σε μια κλάση (π.χ. προτεινόμενες ταινίες) προβλέφθηκαν σωστά.\n",
        "\n",
        "3. F1: Είναι ένας μέσος μεταξύ των παραπάνω δυο μετρικών, έτσι ώστε να διατηρείται μια ισορροπία μεταξύ τους. Υπολογίζεται από την παρακάτω σχέση:\n",
        "\n",
        "$$F_1=2\\frac{Precision\\times{Recall}}{Precision+Recall}$$\n",
        "\n",
        "Οι παραπάνω συναρτήσεις παρέχονται από την βιβλιοθήκη scikit-learn.\n",
        "\n",
        "Τέλος για την καλύτερη επίβλεψη του συστήματος σας μπορείτε να εκπαιδεύσετε  τον recommender σας με ένα υποσύνολο ταινίων (π.χ. 10, 20, 50, ...) για να μελετήσετε κατά πόσο σας βοηθούν οι επιπλέον αξιολογήσεις κάθε φορά (δηλαδή κατά πόσο βελτιώνονται οι παραπάνω μετρικές στο test set). Έτσι π.χ. μπορείτε να εντοπίσετε περιπτώσεις όπως για παράδειγμα ότι με έναν recommender μπορεί να μην επιτυγχάνετε πολύ υψηλό σκορ όσο με άλλους, αλλά το βέλτιστο σκόρ σας επιτυγχάνεται πολύ γρηγόρα π.χ. με μόνο 10 ταινίες αντί 100."
      ]
    },
    {
      "cell_type": "markdown",
      "metadata": {
        "id": "9HWH0oMY4rUb"
      },
      "source": [
        "## Κατασκευή Περιβάλλοντος Εργασίας\n",
        "\n",
        "\n"
      ]
    },
    {
      "cell_type": "markdown",
      "metadata": {
        "id": "dMw3crHzWTWK"
      },
      "source": [
        "### Διάβασμα Αρχείων στο Colab (Μόνο για το Colab)\n",
        "Αν η υλοποίηση γίνει στο google colab τότε μπορεί να χρησιμοποιηθεί το google drive ως file system. Για να γίνει Mount το google drive τρέχουμε τον παρακάτω κώδικα και κλικάρουμε στο link που θα μας εμφανιστεί. \n",
        "\n",
        "```\n",
        "from google.colab import drive\n",
        "drive.mount('/gdrive')\n",
        "import os\n",
        "os.listdir('/gdrive/My Drive')\n",
        "```\n",
        "Έπειτα στην σελίδα που άνοιξε επιλέγουμε το mail μας και στο επόμενο παράθυρο που θα μας ανοίξει πατάμε Να επιτρέπεται. Στην συνέχεια αντιγράφουμε τον κωδικό που θα μας βγάλει και τον κάνουμε paste στο Input που έχει ανοίξει στο colab. Έτσι πλέον αν έχουμε ανεβάσει ένα αρχείο στο google drive μπορούμε να το βρούμε στην θέση:\n",
        "\n",
        "```\n",
        "movies_filename = '/gdrive/My Drive/' + movies_metadata.csv\n",
        "```\n",
        "Μπορούμε πλέον κανονικά να δουλέψουμε φτιάχνοντας φακέλους ή αρχεία και γενικότερα κάνοντας οτιδήποτε θα κάναμε αν ήμασταν τοπικά. \n",
        "\n",
        "### Prolog μέσω Python\n",
        "\n",
        "Το πακέτο που θα χρησιμοποιηθεί για την επικοινωνία Python και Prolog είναι το pyswip (https://pypi.org/project/pyswip/). Για να δουλέψει το Pyswip  χρειάζεται να υπάρχει το Swi-Prolog το όποιο αν δουλεύουμε τοπικά πρέπει να το εγκαταστήσουμε, ακολουθώντας αντίστοιχες οδηγίες στην σελίδα του εργαλείου. Για να γίνει του Swi-Prolog η εγκατάσταση στο Google Colab πρέπει να τρέξουμε τον παρακάτω κώδικα:\n",
        "\n",
        "```\n",
        "!sudo apt-get install software-properties-common\n",
        "!sudo apt-add-repository ppa:swi-prolog/stable\n",
        "!sudo apt-get update\n",
        "!sudo apt-get install swi-prolog\n",
        "```\n",
        "Σε κάποιο σημείο της εκτέλεσης εμφανίζεται ένα μήνυμα ότι πρέπει να πατήσουμε enter σε ένα input για να συνεχίσει η διαδικασία. Έπειτα από αυτό η εκτέλεση θα συνεχίσει χωρίς κάποιο πρόβλημα.\n",
        "\n",
        "Τέλος πρέπει να εγκαταστήσουμε το pyswip (**όπου και να δουλεύουμε**) όπως παρακάτω:\n",
        "\n",
        "```\n",
        "!pip isntall pyswip\n",
        "```"
      ]
    },
    {
      "cell_type": "markdown",
      "metadata": {
        "id": "dw9Wh_UZWZdj"
      },
      "source": [
        "---\n",
        "# Λύση\n",
        "### Ονοματεπώνυμο: Εμμανουήλ Βεκράκης\n",
        "### ΑΜ: 03116068\n",
        "---"
      ]
    },
    {
      "cell_type": "markdown",
      "metadata": {
        "id": "doHQmp994rUb"
      },
      "source": [
        "\n",
        "## Κώδικας για κατασκευή περιβάλλοντος εργασίας\n",
        "\n"
      ]
    },
    {
      "cell_type": "markdown",
      "metadata": {
        "id": "hQUkbhybNl91"
      },
      "source": [
        "### Εγκατάσταση απαραίτητων πακέτων\n",
        "\n",
        "Κώδικας για την εγκατάσταση της swi-prolog και της βιβλιοθήκης pyswip"
      ]
    },
    {
      "cell_type": "code",
      "metadata": {
        "id": "xZdXjQr64rUc",
        "colab": {
          "base_uri": "https://localhost:8080/"
        },
        "outputId": "4d82a785-7a82-4f69-c6af-4c81c313d2bf"
      },
      "source": [
        "#install swi-prolog\n",
        "!sudo apt-get install software-properties-common\n",
        "!sudo apt-add-repository ppa:swi-prolog/stable\n",
        "!sudo apt-get update\n",
        "!sudo apt-get install swi-prolog\n",
        "#install pyswip\n",
        "!pip install pyswip"
      ],
      "execution_count": 1,
      "outputs": [
        {
          "output_type": "stream",
          "text": [
            "Reading package lists... Done\n",
            "Building dependency tree       \n",
            "Reading state information... Done\n",
            "software-properties-common is already the newest version (0.96.24.32.14).\n",
            "0 upgraded, 0 newly installed, 0 to remove and 17 not upgraded.\n",
            " Comprehensive Prolog implementation with extensive libraries and development tools.   Primarily targetted at teaching, RDF processing and web-related tasks, such as creating web services or analysing web content.\n",
            " More info: https://launchpad.net/~swi-prolog/+archive/ubuntu/stable\n",
            "Press [ENTER] to continue or Ctrl-c to cancel adding it.\n",
            "\n",
            "Hit:1 https://cloud.r-project.org/bin/linux/ubuntu bionic-cran40/ InRelease\n",
            "Ign:2 https://developer.download.nvidia.com/compute/cuda/repos/ubuntu1804/x86_64  InRelease\n",
            "Ign:3 https://developer.download.nvidia.com/compute/machine-learning/repos/ubuntu1804/x86_64  InRelease\n",
            "Hit:4 https://developer.download.nvidia.com/compute/cuda/repos/ubuntu1804/x86_64  Release\n",
            "Hit:5 https://developer.download.nvidia.com/compute/machine-learning/repos/ubuntu1804/x86_64  Release\n",
            "Get:6 http://security.ubuntu.com/ubuntu bionic-security InRelease [88.7 kB]\n",
            "Hit:9 http://archive.ubuntu.com/ubuntu bionic InRelease\n",
            "Hit:10 http://ppa.launchpad.net/c2d4u.team/c2d4u4.0+/ubuntu bionic InRelease\n",
            "Get:11 http://archive.ubuntu.com/ubuntu bionic-updates InRelease [88.7 kB]\n",
            "Hit:12 http://ppa.launchpad.net/cran/libgit2/ubuntu bionic InRelease\n",
            "Hit:13 http://ppa.launchpad.net/graphics-drivers/ppa/ubuntu bionic InRelease\n",
            "Get:14 http://archive.ubuntu.com/ubuntu bionic-backports InRelease [74.6 kB]\n",
            "Hit:15 http://ppa.launchpad.net/swi-prolog/stable/ubuntu bionic InRelease\n",
            "Fetched 252 kB in 1s (182 kB/s)\n",
            "Reading package lists... Done\n",
            "Hit:1 https://cloud.r-project.org/bin/linux/ubuntu bionic-cran40/ InRelease\n",
            "Ign:2 https://developer.download.nvidia.com/compute/cuda/repos/ubuntu1804/x86_64  InRelease\n",
            "Ign:3 https://developer.download.nvidia.com/compute/machine-learning/repos/ubuntu1804/x86_64  InRelease\n",
            "Hit:4 https://developer.download.nvidia.com/compute/cuda/repos/ubuntu1804/x86_64  Release\n",
            "Hit:5 https://developer.download.nvidia.com/compute/machine-learning/repos/ubuntu1804/x86_64  Release\n",
            "Get:6 http://security.ubuntu.com/ubuntu bionic-security InRelease [88.7 kB]\n",
            "Hit:8 http://ppa.launchpad.net/c2d4u.team/c2d4u4.0+/ubuntu bionic InRelease\n",
            "Hit:9 http://archive.ubuntu.com/ubuntu bionic InRelease\n",
            "Get:11 http://archive.ubuntu.com/ubuntu bionic-updates InRelease [88.7 kB]\n",
            "Hit:12 http://ppa.launchpad.net/cran/libgit2/ubuntu bionic InRelease\n",
            "Hit:13 http://ppa.launchpad.net/graphics-drivers/ppa/ubuntu bionic InRelease\n",
            "Get:14 http://archive.ubuntu.com/ubuntu bionic-backports InRelease [74.6 kB]\n",
            "Hit:15 http://ppa.launchpad.net/swi-prolog/stable/ubuntu bionic InRelease\n",
            "Fetched 252 kB in 1s (215 kB/s)\n",
            "Reading package lists... Done\n",
            "Reading package lists... Done\n",
            "Building dependency tree       \n",
            "Reading state information... Done\n",
            "swi-prolog is already the newest version (8.2.3-1-ge5584f06e-bionicppa2).\n",
            "0 upgraded, 0 newly installed, 0 to remove and 17 not upgraded.\n",
            "Requirement already satisfied: pyswip in /usr/local/lib/python3.6/dist-packages (0.2.10)\n"
          ],
          "name": "stdout"
        }
      ]
    },
    {
      "cell_type": "markdown",
      "metadata": {
        "id": "zuibf7d9NkaG"
      },
      "source": [
        "### Σύνδεση με Google Drive\n",
        "\n",
        "Κώδικας για να γίνει Mount to Google Drive"
      ]
    },
    {
      "cell_type": "code",
      "metadata": {
        "id": "4QOs_gnx4rUb",
        "colab": {
          "base_uri": "https://localhost:8080/"
        },
        "outputId": "fd224b39-663a-44ff-9fc9-4ee125feb618"
      },
      "source": [
        "from google.colab import drive\n",
        "drive.mount('/gdrive')\n",
        "import os\n",
        "os.listdir('/gdrive/My Drive')\n",
        "path='/gdrive/My Drive/'"
      ],
      "execution_count": 2,
      "outputs": [
        {
          "output_type": "stream",
          "text": [
            "Drive already mounted at /gdrive; to attempt to forcibly remount, call drive.mount(\"/gdrive\", force_remount=True).\n"
          ],
          "name": "stdout"
        }
      ]
    },
    {
      "cell_type": "markdown",
      "metadata": {
        "id": "GxLahZ-i4rUc"
      },
      "source": [
        "## **Μέρος 1: Μελέτη των Metadata, Δημιουργία κόσμου και των βασικών queries.**\n"
      ]
    },
    {
      "cell_type": "markdown",
      "metadata": {
        "id": "t-RRV5Z4QHut"
      },
      "source": [
        "#### Προετοιμασία και εισαγωγή dataset."
      ]
    },
    {
      "cell_type": "code",
      "metadata": {
        "id": "gA3CRz5c4rUc"
      },
      "source": [
        "import pandas as pd\n",
        "from pyswip import Prolog"
      ],
      "execution_count": 3,
      "outputs": []
    },
    {
      "cell_type": "markdown",
      "metadata": {
        "id": "J82fFFQIOCRw"
      },
      "source": [
        "Αρχικά με τη βοήθεια του pandas εισάγουμε το dataset movies_metadata.csv από το Drive μας και αντικατάσταση των απουσιάζουσων τιμών με \"UNK\" (unknown)."
      ]
    },
    {
      "cell_type": "code",
      "metadata": {
        "id": "jnVDBIDw4rUd"
      },
      "source": [
        "# Η βιβλιοθήκη pandas είναι χρήσιμη για την εργασία με τέτοια δεδομένα\n",
        "import pandas as pd \n",
        "# Διάβασμα του αρχείου 'movie_metadata.csv' \n",
        "data = pd.read_csv(path + \"movies_metadata.csv\") \n",
        "#Στο csv υπαρχούν κελία με nan τιμές\n",
        "#Στις θέσεις αυτές βάζουμε 'UNK' πράγμα που  κάνουμε με την παρακάτω συνάρτηση\n",
        "data.fillna(\"UNK\", inplace=True)\n",
        "# Preview the first 5 lines of the loaded data \n",
        "# data.head()"
      ],
      "execution_count": 4,
      "outputs": []
    },
    {
      "cell_type": "markdown",
      "metadata": {
        "id": "LyyesdivO8Z-"
      },
      "source": [
        "Η συνάρτηση clean_text θα μας βοηθήσει να αντικαταστήσουμε χαρακτήρες όπως _\"\\xa0\"_ και _\" ' \"_, οι οποίοι θα δημιουργούσαν προβλημα στους κανόνες της Prolog."
      ]
    },
    {
      "cell_type": "code",
      "metadata": {
        "id": "sPAqSe0n4rUd"
      },
      "source": [
        "def clean_text(text):\n",
        "  text = text.replace(u'\\xa0', u'')\n",
        "  text = text.replace(u\"'\", u'')\n",
        "  return text"
      ],
      "execution_count": 5,
      "outputs": []
    },
    {
      "cell_type": "markdown",
      "metadata": {
        "id": "LKUsFUeoP1-D"
      },
      "source": [
        "#### Ερώτημα 1α: Δημιουργία κόσμου.\n",
        "\n",
        "Στη συνέχεια προχωρήσαμε με τη δημιουργία του κόσμου μας, ορίζοντας γεγονότα για χαρακτηριστικά των ταινιών όπως το είδος, την πλοκή, το αν είναι έγχρωμες ή ασπρόμαυρες, τον σκηνοθέτη, τη γλώσσα και τους κύριους ηθοποιούς τους."
      ]
    },
    {
      "cell_type": "code",
      "metadata": {
        "id": "RcOo0hyJ4rUd"
      },
      "source": [
        "#create World\n",
        "#Ορίζουμε τον κόσμο μας\n",
        "prolog = Prolog()\n",
        "\n",
        "#Για κάθε row του πίνακα φτιάχνουμε τα κατηγορήματα που θέλουμε να αποθηκέυσουμε\n",
        "#αρχικά σε μια λίστα με το όνομα literals\n",
        "literals = []\n",
        "movie_score = {}\n",
        "for row in data.itertuples(index=True, name='Pandas'):\n",
        "  movie_title = clean_text(getattr(row, 'movie_title'))\n",
        "\n",
        "  for genre in getattr(row, 'genres').split(\"|\"):\n",
        "    literals.append(\"genre('\"+ movie_title +\"','\"+ genre +\"')\")\n",
        "\n",
        "#Η Prolog θέλει τα κατηγορήματά της με την σειρά \n",
        "literals.sort()\n",
        "for literal in literals:\n",
        "  prolog.assertz(literal)\n",
        "\n",
        "# Έλεγχος ότι εισήχθησαν σωστά τα γεγονότα\n",
        "\n",
        "# for soln in prolog.query(\"genre(X, Y)\"):\n",
        "#   print(soln[\"X\"], \" movie is \", soln[\"Y\"])"
      ],
      "execution_count": 6,
      "outputs": []
    },
    {
      "cell_type": "code",
      "metadata": {
        "id": "cvU1KxZYGvTR"
      },
      "source": [
        "# Δημιουργία κατηγορημάτων για πλοκή και χρώμα\n",
        "\n",
        "literals = []\n",
        "\n",
        "for row in data.itertuples(index=True, name='Pandas'):\n",
        "  movie_title = clean_text(getattr(row, 'movie_title'))\n",
        "  bnw = False\n",
        "\n",
        "  for plot in getattr(row, 'plot_keywords').split(\"|\"):\n",
        "    literals.append(\"plot('\"+ movie_title +\"','\"+ clean_text(plot) +\"')\")\n",
        "\n",
        "    if (plot == \"black and white\"):\n",
        "      bnw = True\n",
        "\n",
        "  if bnw:\n",
        "    literals.append(\"color('\"+ movie_title +\"','black and white')\")\n",
        "  else:\n",
        "    literals.append(\"color('\"+ movie_title +\"','colored')\")\n",
        "\n",
        "literals.sort()\n",
        "for literal in literals:\n",
        "  prolog.assertz(literal)\n",
        "\n",
        "\n",
        "# Έλεγχος ότι εισήχθησαν σωστά τα γεγονότα\n",
        "\n",
        "# for soln in prolog.query(\"plot(X, Y)\"):\n",
        "#   print(soln[\"X\"], \" movie has plot \", soln[\"Y\"])\n",
        "\n",
        "# for soln in prolog.query(\"color(X, Y)\"):\n",
        "#   print(soln[\"X\"], \" movie is \", soln[\"Y\"])"
      ],
      "execution_count": 7,
      "outputs": []
    },
    {
      "cell_type": "code",
      "metadata": {
        "id": "sLnvTkIPJYOM"
      },
      "source": [
        "# Δημιουργία κατηγορημάτων για σκηνοθέτη\n",
        "\n",
        "literals = []\n",
        "\n",
        "for row in data.itertuples(index=True, name='Pandas'):\n",
        "  movie_title = clean_text(getattr(row, 'movie_title'))\n",
        "\n",
        "  literals.append(\"director('\"+ movie_title +\"','\"+ clean_text(getattr(row, 'director_name')) +\"')\")\n",
        "\n",
        "literals.sort()\n",
        "for literal in literals:\n",
        "  prolog.assertz(literal)\n",
        "\n",
        "\n",
        "# Έλεγχος ότι εισήχθησαν σωστά τα γεγονότα\n",
        "\n",
        "# for soln in prolog.query(\"director(X, Y)\"):\n",
        "#   print(soln[\"X\"], \" movie has director \", soln[\"Y\"])"
      ],
      "execution_count": 8,
      "outputs": []
    },
    {
      "cell_type": "code",
      "metadata": {
        "id": "XAyeYv2MOpon"
      },
      "source": [
        "# Δημιουργία κατηγορημάτων για γλώσσα\n",
        "\n",
        "literals = []\n",
        "\n",
        "for row in data.itertuples(index=True, name='Pandas'):\n",
        "  movie_title = clean_text(getattr(row, 'movie_title'))\n",
        "\n",
        "  literals.append(\"language('\"+ movie_title +\"','\"+ clean_text(getattr(row, 'language')) +\"')\")\n",
        "\n",
        "literals.sort()\n",
        "for literal in literals:\n",
        "  prolog.assertz(literal)\n",
        "\n",
        "\n",
        "# Έλεγχος ότι εισήχθησαν σωστά τα γεγονότα\n",
        "\n",
        "# for soln in prolog.query(\"language(X, Y)\"):\n",
        "#   print(soln[\"X\"], \" movie is in \", soln[\"Y\"])"
      ],
      "execution_count": 9,
      "outputs": []
    },
    {
      "cell_type": "code",
      "metadata": {
        "id": "miHn9lNoGnrq"
      },
      "source": [
        "# Δημιουργία κατηγορημάτων για ηθοποιούς\n",
        "\n",
        "literals = []\n",
        "\n",
        "for row in data.itertuples(index=True, name='Pandas'):\n",
        "  movie_title = clean_text(getattr(row, 'movie_title'))\n",
        "\n",
        "  literals.append(\"actor('\"+ movie_title +\"','\"+ clean_text(getattr(row, 'actor_1_name')) +\"')\")\n",
        "  literals.append(\"actor('\"+ movie_title +\"','\"+ clean_text(getattr(row, 'actor_2_name')) +\"')\")\n",
        "  literals.append(\"actor('\"+ movie_title +\"','\"+ clean_text(getattr(row, 'actor_3_name')) +\"')\")\n",
        "\n",
        "literals.sort()\n",
        "for literal in literals:\n",
        "  prolog.assertz(literal)\n",
        "\n",
        "\n",
        "# Έλεγχος ότι εισήχθησαν σωστά τα γεγονότα\n",
        "\n",
        "# for soln in prolog.query(\"actor(X, Y)\"):\n",
        "#   print(soln[\"X\"], \" movie has actor \", soln[\"Y\"])"
      ],
      "execution_count": 10,
      "outputs": []
    },
    {
      "cell_type": "markdown",
      "metadata": {
        "id": "c9i_SftFVnJm"
      },
      "source": [
        "#### Ερώτημα 1β: Δημιουργία κανόνων\n",
        "\n",
        "Το επόμενο βήμα είναι η χρήση των παραπάνω γεγονότων που ορίσαμε για τη δημιουργία κανόνων, που θα υπαγορεύουν πότε δύο ταινίες μοιάζουν μεταξύ τους στο είδος τους, στη πλοκή τους, αν έχουν κοινό σκηνοθέτη, ηθοποιούς, γλώσσα ή χρώμα."
      ]
    },
    {
      "cell_type": "markdown",
      "metadata": {
        "id": "R156A-oHke6x"
      },
      "source": [
        "Για την περίπτωση του είδους των ταινιών, επειδή μία ταινία ανήκει πιθανότατα σε πολλά είδη, ορίσαμε τρεις κανόνες, ανάλογα με το αν οι δύο ταινίες που συγκρίνουμε έχουν ένα είδος κοινό, δύο ή τρία. Αντίστοιχα, στην πλοκή ορίσαμε πάλι τρεις κανόνες, ανάλογα με το αν οι δύο ταινίες έχουν δύο κοινές λέξεις στην πλοκή τους, τέσσερις ή έξι. Τέλος, για τους κοινούς ηθοποιούς ορίσαμε κανόνες ανάλογα με το αν οι δύο ταινίες έχουν κοινό τουλάχιστον ένα κύριο ηθοποιό, τουλάχιστον δύο ή και τους τρεις."
      ]
    },
    {
      "cell_type": "code",
      "metadata": {
        "id": "61SbKPrg4rUd"
      },
      "source": [
        "prolog.assertz('same_genre_3(X,Y) :- genre(X,G1), genre(Y,G1), X \\= Y, genre(X,G2), genre(Y,G2), G1 \\= G2, genre(X,G3), genre(Y,G3), G1 \\= G3, G2 \\= G3')\n",
        "\n",
        "prolog.assertz('same_genre_2(X,Y) :- genre(X,G1), genre(Y,G1), X \\= Y, genre(X,G2), genre(Y,G2), G1 \\= G2')\n",
        "\n",
        "prolog.assertz('same_genre_1(X,Y) :- genre(X,G1), genre(Y,G1), X \\= Y')\n",
        "\n",
        "# for soln in prolog.query(\"same_genre_3(X, Y)\"):\n",
        "#   print(soln[\"X\"], \" has the same genre as \", soln[\"Y\"])"
      ],
      "execution_count": 11,
      "outputs": []
    },
    {
      "cell_type": "code",
      "metadata": {
        "id": "sIoUciiipKcj"
      },
      "source": [
        "prolog.assertz('same_director(X,Y) :- director(X,D), director(Y,D),  X \\= Y')\n",
        "\n",
        "# for soln in prolog.query(\"same_director(X, Y)\"):\n",
        "#   print(soln[\"X\"], \" has the same director as \", soln[\"Y\"])"
      ],
      "execution_count": 12,
      "outputs": []
    },
    {
      "cell_type": "code",
      "metadata": {
        "id": "J-VHd8hQdu-5"
      },
      "source": [
        "prolog.assertz('same_plot_6(X,Y) :- plot(X,P1), plot(Y,P1), X\\=Y, plot(X,P2), plot(Y,P2), P1\\=P2, plot(X,P3), plot(Y,P3), P1\\=P3, P2\\=P3, plot(X,P4), plot(Y,P4), P1\\=P4, P2\\=P4, P3\\=P4, plot(X,P5), plot(Y,P5), P1\\=P5, P2\\=P5, P3\\=P5, P4\\=P5, plot(X,P6), plot(Y,P6), P1\\=P6, P2\\=P6, P3\\=P6, P4\\=P6, P5\\=P6')\n",
        "\n",
        "prolog.assertz('same_plot_4(X,Y) :- plot(X,P1), plot(Y,P1), X\\=Y, plot(X,P2), plot(Y,P2), P1\\=P2, plot(X,P3), plot(Y,P3), P1\\=P3, P2\\=P3, plot(X,P4), plot(Y,P4), P1\\=P4, P2\\=P4, P3\\=P4')\n",
        "\n",
        "prolog.assertz('same_plot_2(X,Y) :- plot(X,P1), plot(Y,P1), X\\=Y, plot(X,P2), plot(Y,P2), P1\\=P2')\n",
        "\n",
        "# for soln in prolog.query(\"same_plot_6(X, Y)\"):\n",
        "#   print(soln[\"X\"], \" has the same plot as \", soln[\"Y\"])"
      ],
      "execution_count": 13,
      "outputs": []
    },
    {
      "cell_type": "code",
      "metadata": {
        "id": "zbQQBonPqlsK"
      },
      "source": [
        "prolog.assertz('same_language(X,Y) :- language(X,D), language(Y,D),  X \\= Y')\n",
        "\n",
        "# for soln in prolog.query(\"same_language(X, Y)\"):\n",
        "#   print(soln[\"X\"], \" has the same language as \", soln[\"Y\"])"
      ],
      "execution_count": 14,
      "outputs": []
    },
    {
      "cell_type": "code",
      "metadata": {
        "id": "xXj6fKgqqmC1"
      },
      "source": [
        "prolog.assertz('same_color(X,Y) :- color(X,D), color(Y,D),  X \\= Y')\n",
        "\n",
        "# for soln in prolog.query(\"same_color(X, Y)\"):\n",
        "#   print(soln[\"X\"], \" has the same color as \", soln[\"Y\"])"
      ],
      "execution_count": 15,
      "outputs": []
    },
    {
      "cell_type": "code",
      "metadata": {
        "id": "B4h4_u52Aj7s"
      },
      "source": [
        "prolog.assertz('one_actor(X,Y) :- actor(X,A1), actor(Y,A1), X\\=Y')\n",
        "\n",
        "prolog.assertz('two_actors(X,Y) :- actor(X,A1), actor(Y,A1), X\\=Y, actor(X,A2), actor(Y,A2), A1\\=A2')\n",
        "\n",
        "prolog.assertz('all_actors(X,Y) :- actor(X,A1), actor(Y,A1), X\\=Y, actor(X,A2), actor(Y,A2), A1\\=A2, actor(X,A3), actor(Y,A3), A1\\=A3, A2\\=A3')\n",
        "\n",
        "# for soln in prolog.query(\"one_actor(X, Y)\"):\n",
        "#   print(soln[\"X\"], \" has at least one actor same with \", soln[\"Y\"])"
      ],
      "execution_count": 16,
      "outputs": []
    },
    {
      "cell_type": "markdown",
      "metadata": {
        "id": "ibe9jBk24rUd"
      },
      "source": [
        "## **Μέρος 2: Recommendation System με βάση μόνο τα χαρακτηριστικά των ταινιών.**\n",
        "\n",
        "Στο σημείο αυτό με βάση τους κανόνες που κατασκευάστηκαν στο Μέρος 1 κατασκευάσαμε κατηγορήματα για τα κριτήρια ομοιότητας δύο ταινιών."
      ]
    },
    {
      "cell_type": "markdown",
      "metadata": {
        "id": "cpxQQpGCs_ty"
      },
      "source": [
        "Τα κριτήρια ομοιότητας δύο ταινιών που σχεδιάσαμε είναι 12 και χωρίζονται σε 5 κλίμακες:\n",
        "\n",
        "1. Αν έχουν ένα είδος κοινό.\n",
        "2. Αν έχουν δύο είδη κοινά, **ή** αν έχουν ένα είδος κοινό και λίγο κοινή πλοκή (2), **ή** αν έχουν έναν ηθοποιό κοινό **ή** αν έχουν κοινό σκηνοθέτη.\n",
        "3. Αν έχουν τρία είδη κοινά, **ή** αν έχουν δύο είδη κοινά και αρκετά κοινή πλοκή (4) **ή** αν έχουν τουλάχιστον δύο ηθοποιούς κοινούς.\n",
        "4. Αν έχουν τρία είδη κοινά και σχεδόν ίδια πλοκή (6) **ή** αν έχουν και τους τρεις ηθοποιούς κοινούς **ή** αν έχουν δύο είδη κοινά αρκετά κοινή πλοκή (4) και κοινό σκηνοθέτη.\n",
        "5. Αν έχουν τρία είδη κοινά, σχεδόν ίδια πλοκή (6), ίδια γλώσσα, ίδιο χρώμα και τουλάχιστον δύο κοινούς ηθοποιούς.\n"
      ]
    },
    {
      "cell_type": "code",
      "metadata": {
        "id": "hVfcBBpd4rUd"
      },
      "source": [
        "# Κλίμακα 1\n",
        "\n",
        "prolog.assertz('''(find_sim_1(X, Y):-\n",
        "                                          same_genre_1(X, Y),\n",
        "                                          X \\= Y)''')\n",
        "\n",
        "# Κλίμακα 2\n",
        "\n",
        "prolog.assertz('''(find_sim_2(X, Y):-\n",
        "                                          same_genre_2(X, Y),\n",
        "                                          X \\= Y)''')\n",
        "\n",
        "prolog.assertz('''(find_sim_3(X, Y):-\n",
        "                                          same_genre_1(X, Y),\n",
        "                                          same_plot_2(X, Y),\n",
        "                                          X \\= Y)''')\n",
        "\n",
        "prolog.assertz('''(find_sim_4(X, Y):-\n",
        "                                          one_actor(X, Y),\n",
        "                                          X \\= Y)''')\n",
        "\n",
        "prolog.assertz('''(find_sim_5(X, Y):-\n",
        "                                          same_director(X, Y),\n",
        "                                          X \\= Y)''')\n",
        "\n",
        "# Κλίμακα 3\n",
        "\n",
        "prolog.assertz('''(find_sim_6(X, Y):-\n",
        "                                        same_genre_2(X, Y),\n",
        "                                        X \\= Y,\n",
        "                                        same_plot_4(X, Y))''')\n",
        "\n",
        "prolog.assertz('''(find_sim_7(X, Y):-\n",
        "                                          same_genre_3(X, Y),\n",
        "                                          X \\= Y)''')\n",
        "\n",
        "prolog.assertz('''(find_sim_8(X, Y):-\n",
        "                                          two_actors(X, Y),\n",
        "                                          X \\= Y)''')\n",
        "\n",
        "# Κλίμακα 4\n",
        "\n",
        "prolog.assertz('''(find_sim_9(X, Y):-\n",
        "                                        same_genre_3(X, Y),\n",
        "                                        X \\= Y,\n",
        "                                        same_plot_6(X, Y))''')\n",
        "\n",
        "prolog.assertz('''(find_sim_10(X, Y):-\n",
        "                                          all_actors(X, Y),\n",
        "                                          X \\= Y)''')\n",
        "\n",
        "prolog.assertz('''(find_sim_11(X, Y):-\n",
        "                                        same_genre_2(X, Y),\n",
        "                                        X \\= Y,\n",
        "                                        same_plot_4(X, Y),\n",
        "                                        same_director(X, Y))''')\n",
        "\n",
        "# Κλίμακα 5\n",
        "\n",
        "prolog.assertz('''(find_sim_12(X, Y):-\n",
        "                                        same_genre_3(X, Y),\n",
        "                                        X \\= Y,\n",
        "                                        same_plot_6(X, Y),\n",
        "                                        same_language(X, Y),\n",
        "                                        same_color(X, Y),\n",
        "                                        two_actors(X, Y))''')"
      ],
      "execution_count": 17,
      "outputs": []
    },
    {
      "cell_type": "markdown",
      "metadata": {
        "id": "9zGICkJPvCOT"
      },
      "source": [
        "Στη συνέχεια κατασκευάζουμε τη συνάρτηση `recommender`, η οποία θα αποτελέσει τη βάση του συστήματος συστάσεων μας. Η συνάρτηση αυτή λαμβάνει σαν ορίσματα μία ταινία και έναν αριθμό και επιστρέφει το σύνολο των ταινιών που μοιάζουν με την ταινία αυτή με βάση το κριτήριο ομοιότητας που αντιστοιχεί στον αριθμό που δώθηκε.\n",
        "\n",
        "Παρακάτω φαίνεται ένα παράδειγμα λειτουργίας της συνάρτησης recommender για την ταινία *Her*. Σε αντίθεση με την εν λόγω ταινία, κρατηθήκαμε και δεν ερωτευτήκαμε το σύστημα τεχνητής νοημοσύνης που κατασκευάσαμε."
      ]
    },
    {
      "cell_type": "code",
      "metadata": {
        "id": "bh_jfhPC4rUd"
      },
      "source": [
        "def recommender(movie, similarity):\n",
        "    s = set()\n",
        "    q = prolog.query(\"find_sim_\" + str(similarity) + \"('\" + movie +\"',M)\")\n",
        "    for soln in q:\n",
        "        m = soln['M'] \n",
        "        if m not in s:\n",
        "            s.add(soln['M'])\n",
        "    q.close()\n",
        "    answers = s\n",
        "    return answers"
      ],
      "execution_count": 18,
      "outputs": []
    },
    {
      "cell_type": "code",
      "metadata": {
        "id": "Ug_L_Qx-4rUd",
        "colab": {
          "base_uri": "https://localhost:8080/"
        },
        "outputId": "af19774d-5a0b-4551-ba57-08fe545a0fb6"
      },
      "source": [
        "for i in range(1,13):\n",
        "  print(\"Similarity-%d: %s\" %(i, list(recommender('Her', i))[:5]))"
      ],
      "execution_count": 19,
      "outputs": [
        {
          "output_type": "stream",
          "text": [
            "Similarity-1: ['Man on the Moon', 'Of Horses and Men', 'Memoirs of a Geisha', 'The Train', 'Adaptation.']\n",
            "Similarity-2: ['Nutty Professor II: The Klumps', 'Darling Lili', 'Man on the Moon', 'Of Horses and Men', 'Memoirs of a Geisha']\n",
            "Similarity-3: ['The Matrix Revolutions', 'The Matrix Reloaded', 'Chronicle', 'WarGames', 'Sleep Dealer']\n",
            "Similarity-4: ['Match Point', 'Charlie Wilsons War', 'Pan', 'Captain America: The Winter Soldier', 'The Prestige']\n",
            "Similarity-5: ['Where the Wild Things Are', 'Being John Malkovich', 'Adaptation.']\n",
            "Similarity-6: []\n",
            "Similarity-7: ['Seeking a Friend for the End of the World', 'Somewhere in Time', 'Safety Not Guaranteed', 'The Fountain', 'Vanilla Sky']\n",
            "Similarity-8: []\n",
            "Similarity-9: []\n",
            "Similarity-10: []\n",
            "Similarity-11: []\n",
            "Similarity-12: []\n"
          ],
          "name": "stdout"
        }
      ]
    },
    {
      "cell_type": "markdown",
      "metadata": {
        "id": "YjpTwOuO4rUd"
      },
      "source": [
        "## **Μέρος 3: Recommendation System Με βάση τις προτιμήσεις-Αξιολογήσεις του χρήστη-Εκπαίδευση και Πρόβλεψη**\n",
        "\n",
        "\n",
        "Στο κομμάτι αυτό υλοποιήσαμε το σύστημα συστάσεων. Συγκρίνοντας ταινίες που έχει δει και αξιολογήσει ένας χρήστης με τη βάση των υπόλοιπων ταινίων (χρησιμοποιώντας τα κριτήρια ομοιότητας που δημιουργήσαμε), υποθέτουμε ποιες άλλες θα του αρέσουν και ποιες όχι για να σχηματίσουμε προτάσεις.\n",
        "\n"
      ]
    },
    {
      "cell_type": "markdown",
      "metadata": {
        "id": "jlPzqDGln3TW"
      },
      "source": [
        "Για κάθε ταινία που μοιάζει σε κάποιο βαθμό με μία αξιολογημένη ταινία από τον χρήστη, κρατάμε ένα σκορ το οποίο προκύπτει από την βαθμολογία του χρήστη για την ταινία που έχει αξιολογήσει (σε κλίμακα 0-5) και από το βαθμό ομοιότητας των δύο ταινιών.\n",
        "\n",
        "Για την αξιολόγηση του χρήστη, αν η βαθμολογία της ταινίας είναι 0, τότε θέτουμε το αντίστοιχο βάρος -1, αν είναι 1 τότε -0.5, αν είναι 2 ή 3 τότε το θεωρούμε ουδέτερο (δηλαδή 0), ενώ αντίστοιχα αν είναι 4 θέτουμε βάρος 0.5 και αν είναι 5 τότε θέτουμε βάρος 1.\n",
        "\n",
        "Για το βαθμό ομοιότητας των δύο ταινιών, επειδή θέλουμε να δώσουμε πολύ μεγαλύτερο βάρος στις ταινίες που πληρούν κριτήρια μεγαλύτερης κλίμακας, το βάρος που αναθέτουμε είναι ίσο με το τετράγωνο της κλίμακας στην οποία βρίσκεται το κριτήριο που ικανοποιείται. "
      ]
    },
    {
      "cell_type": "code",
      "metadata": {
        "id": "lL9P3GOd4rUe"
      },
      "source": [
        "from tqdm.notebook import tqdm\n",
        "from sklearn.metrics import precision_score, recall_score, f1_score\n",
        "\n",
        "\n",
        "rating_weights = {0: -1, 1: -0.5, 2:0, 3:0, 4:0.5, 5:1}\n",
        "score_weights = [1, 4, 4, 4, 4, 9, 9, 9, 16, 16, 16, 25] # ανάλογα με τα επίπεδα ομοιότητας που έχουν οριστεί στην simple_recommender\n",
        "\n",
        "def train_recommender(ratings, rating_weights, score_weights, start=0, end = -1, movie_score = {}):\n",
        "    \"\"\"\n",
        "    Στην συνάρτηση αυτή μπορούμε να ορίζουμε ποιο υποσύνολο των αξιολογήσεων θα χρησιμοποιήσουμε για το train,\n",
        "    ενώ παράλληλα μπορούμε να αρχικοποιήσουμε και το movie_score το οποίο αποθηκεύονται τα score κάθε ταινίας.\n",
        "    Έτσι αν έχουμε κάνει train τον recommender μας για τις πρώτες 10 ταινίες, μπορούμε να συνεχίσουμε για τις \n",
        "    υπόλοιπες χωρίς κάθε φορά να ξανά-διαμορφώνουμε το score για αυτές. Αυτό θα σας βοηθήσει στην εκτέλεση και χρονικά όταν ελέγχετε την \n",
        "    απόδοση σε υποσύνολα των ratings π.χ. πρώτες 10 ταινίες έπειτα τις επόμενες 20 κ.ο.κ.\n",
        "    \"\"\"\n",
        "    if end == -1:\n",
        "        end = len(ratings)\n",
        "\n",
        "    ratings = ratings.iloc[range(start, end)]\n",
        "    for row in tqdm(ratings.itertuples(index=True, name='Pandas')):\n",
        "        movie = clean_text(getattr(row, 'movie_title'))\n",
        "        rating = getattr(row, 'rating')\n",
        "\n",
        "        for i in range(12):\n",
        "          similar_movies = recommender(movie, i+1)\n",
        "          # print(movie, i, \": \", len(similar_movies))\n",
        "\n",
        "          for similar_movie in similar_movies:\n",
        "              if similar_movie not in movie_score:\n",
        "                  movie_score[similar_movie] = rating_weights[int(rating)] * score_weights[i]\n",
        "              else:\n",
        "                  movie_score[similar_movie] += rating_weights[int(rating)] * score_weights[i] #το weight θα το ορίσετε ανα επίπεδο ομοιότητας οι πολύ όμοιες ταινίες θα έχουν μεγαλύτερο βάρος\n",
        "    return movie_score\n",
        "\n",
        "\n",
        "# Mια ταινία θα πρέπει να είναι προτεινόμενη αν έχει σκορ > 0\n",
        "def predict_example(ratings, movie_score):\n",
        "    real, pred = [], []\n",
        "    for i, row in enumerate(ratings.itertuples(index=True, name='Pandas')):\n",
        "        movie = clean_text(getattr(row, 'movie_title'))\n",
        "        rating = getattr(row, 'rating')\n",
        "\n",
        "        if movie in movie_score: #αν έχουμε σχηματίσει βαθμολογία για την ταινία αυτή\n",
        "            pred.append(int(movie_score[movie] > 0)) #heuristic για το αν μια ταινία είναι προτεινόμενη\n",
        "            real.append(int(rating > 3))# έτσι ορίζουμε ότι μια ταινία θα έπρεπε να είναι προτεινόμενη\n",
        "            #η συνθήκη αυτή δεν μπορεί να αλλάξει\n",
        "        else: #δεν μπορούμε να προτείνουμε κάτι για το όποιο δεν έχουμε σχηματίσει εικόνα\n",
        "            pred.append(0)\n",
        "            real.append(int(rating > 3))\n",
        "\n",
        "    return real, pred\n",
        "\n",
        "\n",
        "def get_metrics(real, pred):\n",
        "    metrics = {}\n",
        "    metrics[\"precision\"] = precision_score(real, pred)\n",
        "    metrics[\"recall\"] = recall_score(real, pred)\n",
        "    metrics[\"f1\"] = f1_score(real, pred)\n",
        "    return metrics"
      ],
      "execution_count": 20,
      "outputs": []
    },
    {
      "cell_type": "code",
      "metadata": {
        "id": "tnIDJLJX4rUe"
      },
      "source": [
        "# Φορτώνουμε από το περιβάλλον τα αρχεία με τις αξιολογήσεις ενός χρήστη\n",
        "\n",
        "train_ratings = pd.read_csv(\"train_ratings.csv\")\n",
        "test_ratings = pd.read_csv(\"test_ratings.csv\")"
      ],
      "execution_count": 21,
      "outputs": []
    },
    {
      "cell_type": "code",
      "metadata": {
        "colab": {
          "base_uri": "https://localhost:8080/",
          "height": 81,
          "referenced_widgets": [
            "eca96ae7b07a48cb87237e16425dd739",
            "842ae1c493f64baaa6873f83b9792ff7",
            "2176c3bcd0d247a49202d2d0408d6490",
            "5decfad4f22b402bb857ce653fe8937b",
            "304759efad1b4d36b1728391f95c4880",
            "3605ed64d915446f93c843b05ebca174",
            "36d52cddaf7447fdab089e69adca0696",
            "74c2bb9d8c194d16af580ffaa4367b73"
          ]
        },
        "id": "Aaxy4YdzO514",
        "outputId": "ea8a1a84-0098-467c-ee59-54e8a35b1f33"
      },
      "source": [
        "movie_score = train_recommender(train_ratings, rating_weights, score_weights, 0, 5)\n",
        "real, pred = predict_example(test_ratings, movie_score)\n",
        "print (get_metrics(real, pred))"
      ],
      "execution_count": 22,
      "outputs": [
        {
          "output_type": "display_data",
          "data": {
            "application/vnd.jupyter.widget-view+json": {
              "model_id": "eca96ae7b07a48cb87237e16425dd739",
              "version_minor": 0,
              "version_major": 2
            },
            "text/plain": [
              "HBox(children=(FloatProgress(value=1.0, bar_style='info', max=1.0), HTML(value='')))"
            ]
          },
          "metadata": {
            "tags": []
          }
        },
        {
          "output_type": "stream",
          "text": [
            "\n",
            "{'precision': 0.5185185185185185, 'recall': 0.7777777777777778, 'f1': 0.6222222222222222}\n"
          ],
          "name": "stdout"
        }
      ]
    },
    {
      "cell_type": "code",
      "metadata": {
        "colab": {
          "base_uri": "https://localhost:8080/",
          "height": 81,
          "referenced_widgets": [
            "da9cd0b7be9947cb94fab4a48884694c",
            "266539ad717d441987fcb361acdefd3b",
            "8f68ec668c484446bfe7ddf2b6e66226",
            "beee249a281243b5914e5dd54aceb07e",
            "41766572d01443a5bffeff3a1d994a9d",
            "d585eb3fe6b747358cf1c36b0f0fc764",
            "0c761f7b26584d7e915d7f163608a7e3",
            "e224bd60c33e4ab9a511aef6cd1e2dc8"
          ]
        },
        "id": "czvNvcaBTQQh",
        "outputId": "2be8742f-3016-4f88-fce8-b40bec61e093"
      },
      "source": [
        "movie_score = train_recommender(train_ratings, rating_weights, score_weights, 5, 10, movie_score)\n",
        "real, pred = predict_example(test_ratings, movie_score)\n",
        "print (get_metrics(real, pred))"
      ],
      "execution_count": 23,
      "outputs": [
        {
          "output_type": "display_data",
          "data": {
            "application/vnd.jupyter.widget-view+json": {
              "model_id": "da9cd0b7be9947cb94fab4a48884694c",
              "version_minor": 0,
              "version_major": 2
            },
            "text/plain": [
              "HBox(children=(FloatProgress(value=1.0, bar_style='info', max=1.0), HTML(value='')))"
            ]
          },
          "metadata": {
            "tags": []
          }
        },
        {
          "output_type": "stream",
          "text": [
            "\n",
            "{'precision': 0.4946236559139785, 'recall': 0.6388888888888888, 'f1': 0.5575757575757576}\n"
          ],
          "name": "stdout"
        }
      ]
    },
    {
      "cell_type": "code",
      "metadata": {
        "colab": {
          "base_uri": "https://localhost:8080/",
          "height": 81,
          "referenced_widgets": [
            "15165dcbc2ad42aca44345555411a21d",
            "7159a4169ba6440db0ecd2e0df6cf015",
            "32e43ed3fa764dc1a13caabce21e6d1d",
            "dfc1e4d188b9403ebfed423895ce1159",
            "1697f8c296324bb4b48e8988fe8c1804",
            "e36f7908259e40839a88840ceee08729",
            "f6520d7b6b044eedacb434cccf87aaf4",
            "bc87b11f25d74997a4dbb48f0774d85e"
          ]
        },
        "id": "cCYKPFUNTQaA",
        "outputId": "78f36c3e-7447-400c-a70c-a8a0074067df"
      },
      "source": [
        "movie_score = train_recommender(train_ratings, rating_weights, score_weights, 10, 15, movie_score)\n",
        "real, pred = predict_example(test_ratings, movie_score)\n",
        "print (get_metrics(real, pred))"
      ],
      "execution_count": 24,
      "outputs": [
        {
          "output_type": "display_data",
          "data": {
            "application/vnd.jupyter.widget-view+json": {
              "model_id": "15165dcbc2ad42aca44345555411a21d",
              "version_minor": 0,
              "version_major": 2
            },
            "text/plain": [
              "HBox(children=(FloatProgress(value=1.0, bar_style='info', max=1.0), HTML(value='')))"
            ]
          },
          "metadata": {
            "tags": []
          }
        },
        {
          "output_type": "stream",
          "text": [
            "\n",
            "{'precision': 0.5391304347826087, 'recall': 0.8611111111111112, 'f1': 0.6631016042780749}\n"
          ],
          "name": "stdout"
        }
      ]
    },
    {
      "cell_type": "code",
      "metadata": {
        "colab": {
          "base_uri": "https://localhost:8080/",
          "height": 81,
          "referenced_widgets": [
            "ba8fcada080f40d2b991bb77e8dc8e33",
            "c422ee2ec7444d0ba1606935f3575dfc",
            "97e66a990f3c45ec9fd5048509ff4c9b",
            "d5c40fd6c9964968bcf1edf3c0e1f5a5",
            "06588d72e7b340caa2755b2054f27a67",
            "5ee959dab8f84713861a9d4e189ebe36",
            "d5f53448465d436ab6be2655a1c1961e",
            "4263ac8c152448458f94b09bd949e182"
          ]
        },
        "id": "gJ0KEZPiTQhy",
        "outputId": "4c83c4c1-8582-4d3f-deec-73a95c5247b2"
      },
      "source": [
        "movie_score = train_recommender(train_ratings, rating_weights, score_weights, 15, 22, movie_score)\n",
        "real, pred = predict_example(test_ratings, movie_score)\n",
        "print (get_metrics(real, pred))"
      ],
      "execution_count": 25,
      "outputs": [
        {
          "output_type": "display_data",
          "data": {
            "application/vnd.jupyter.widget-view+json": {
              "model_id": "ba8fcada080f40d2b991bb77e8dc8e33",
              "version_minor": 0,
              "version_major": 2
            },
            "text/plain": [
              "HBox(children=(FloatProgress(value=1.0, bar_style='info', max=1.0), HTML(value='')))"
            ]
          },
          "metadata": {
            "tags": []
          }
        },
        {
          "output_type": "stream",
          "text": [
            "\n",
            "{'precision': 0.5378151260504201, 'recall': 0.8888888888888888, 'f1': 0.6701570680628273}\n"
          ],
          "name": "stdout"
        }
      ]
    },
    {
      "cell_type": "markdown",
      "metadata": {
        "id": "KN5TTQejqjWx"
      },
      "source": [
        "### Σημειώσεις και Συμπερασματα"
      ]
    },
    {
      "cell_type": "markdown",
      "metadata": {
        "id": "AgLA6Rp6qpff"
      },
      "source": [
        "Αναγκαστήκαμε να διακόψουμε την εκπαίδευση του μοντέλου συστάσεων στις 22 συστάσεις (από τις 100 που βρίσκονται στο train dataset) διότι μετά από τον αριθμό αυτό εμφανίζει σφάλμα η Prolog `Too many stacked strings` και crush-αρει το runtime.\n",
        "\n",
        "Παρολαυτά, παρατηρούμε ότι το σύστημα συγκλίνει γρήγορα σε ικανοποιητικά αποτελέσματα των τριών μετρικών. Μπορούμε να φανταστούμε ότι ελλείψει του τεχνικού προβλήματος, το precision θα πλησίαζε κι άλλο το recall και η μετρική f1 θα ξεπερνούσε το 70%.\n",
        "\n",
        "Ο μικρός αριθμός αξιολογήσεων που απαιτεί το σύστημα μας προτού αρχίσει να παράγει αξιόλογες προβλέψεις αποτελεί σημαντικό πλεονέκτημα, αφού καθιστά αποτελεσματική την πρόταση ταινιών ακόμα σε σχετικά καινούριους χρήστες (ή σε χρήστες που αδιαφορούν για την αξιολόγηση των ταινιών που βλέπουν).\n",
        "\n",
        "Στην περίπτωση του συστήματος προτάσεων ταινιών, είναι αποδεκτό η τιμή του precision να είναι μικρή, δεδομένου ότι στην περίπτωση που προτείνουμε στον χρήστη μία ταινία που δεν τον έλκει, μπορεί απλά να την προσπεράσει. Σημαντικότερη ωστόσο είναι η μετρική του recall, ώστε στις προτάσεις που θα του κάνουμε να περιέχονται ταινίες που θα του κεντρίσουν το ενδιαφέρον. Ο συνδυασμός αυτός βλέπουμε ότι ικανοποιείται στα αποτελέσματα του συστήματος μας στο test dataset παραπάνω."
      ]
    },
    {
      "cell_type": "markdown",
      "metadata": {
        "id": "ZI3I3oELttlM"
      },
      "source": [
        "### Εναλλακτική Υλοποίηση"
      ]
    },
    {
      "cell_type": "markdown",
      "metadata": {
        "id": "eDorn6fitx2u"
      },
      "source": [
        "Για λόγους πληρότητας, υλοποιούμε και ένα ασθενέστερο σύστημα συστάσεων, με πολύ λιγότερα κριτήρια ομοιότητας το οποίο όμως μπορούμε να εκπαιδεύσουμε σε ολόκληρο το training dataset. Προκειμένου να μην εμφανιστεί το ίδιο σφάλμα, πρέπει πρώτα να επανακινήσουμε το runtime και μετά να εκτελέσουμε αυτή την εκδοχή του μέρους 3 αντί για την προηγούμενη."
      ]
    },
    {
      "cell_type": "code",
      "metadata": {
        "id": "6xJr11kvt_si"
      },
      "source": [
        "from tqdm.notebook import tqdm\n",
        "from sklearn.metrics import precision_score, recall_score, f1_score\n",
        "\n",
        "\n",
        "rating_weights = {0: -1, 1: -0.5, 2:0, 3:0, 4:0.5, 5:1}\n",
        "score_weights = [1, 4, 4, 4, 4, 9, 9, 9, 16, 16, 16, 25] # ανάλογα με τα επίπεδα ομοιότητας που έχουν οριστεί στην simple_recommender\n",
        "limited = [0, 2] # τα μειωμένα κριτήρια ομοιότητας (με βάση το 0)\n",
        "\n",
        "def train_recommender(ratings, rating_weights, score_weights, start=0, end = -1, movie_score = {}):\n",
        "    \"\"\"\n",
        "    Στην συνάρτηση αυτή μπορούμε να ορίζουμε ποιο υποσύνολο των αξιολογήσεων θα χρησιμοποιήσουμε για το train,\n",
        "    ενώ παράλληλα μπορούμε να αρχικοποιήσουμε και το movie_score το οποίο αποθηκεύονται τα score κάθε ταινίας.\n",
        "    Έτσι αν έχουμε κάνει train τον recommender μας για τις πρώτες 10 ταινίες, μπορούμε να συνεχίσουμε για τις \n",
        "    υπόλοιπες χωρίς κάθε φορά να ξανά-διαμορφώνουμε το score για αυτές. Αυτό θα σας βοηθήσει στην εκτέλεση και χρονικά όταν ελέγχετε την \n",
        "    απόδοση σε υποσύνολα των ratings π.χ. πρώτες 10 ταινίες έπειτα τις επόμενες 20 κ.ο.κ.\n",
        "    \"\"\"\n",
        "    if end == -1:\n",
        "        end = len(ratings)\n",
        "\n",
        "    ratings = ratings.iloc[range(start, end)]\n",
        "    for row in tqdm(ratings.itertuples(index=True, name='Pandas')):\n",
        "        movie = clean_text(getattr(row, 'movie_title'))\n",
        "        rating = getattr(row, 'rating')\n",
        "\n",
        "        for i in limited:\n",
        "          similar_movies = recommender(movie, i+1)\n",
        "          # print(movie, i, \": \", len(similar_movies))\n",
        "\n",
        "          for similar_movie in similar_movies:\n",
        "              if similar_movie not in movie_score:\n",
        "                  movie_score[similar_movie] = rating_weights[int(rating)] * score_weights[i]\n",
        "              else:\n",
        "                  movie_score[similar_movie] += rating_weights[int(rating)] * score_weights[i] #το weight θα το ορίσετε ανα επίπεδο ομοιότητας οι πολύ όμοιες ταινίες θα έχουν μεγαλύτερο βάρος\n",
        "    return movie_score\n",
        "\n",
        "\n",
        "#αυτό είναι ένα παράδειγμα για το πως θα μπορούσε να υλοποιήθει η predict\n",
        "#έχουμε ορίσει ότι μια ταινία θα έπρεπε να είναι προτεινόμενη αν είχε σκορ > 0\n",
        "def predict_example(ratings, movie_score):\n",
        "    real, pred = [], []\n",
        "    for i, row in enumerate(ratings.itertuples(index=True, name='Pandas')):\n",
        "        movie = clean_text(getattr(row, 'movie_title'))\n",
        "        rating = getattr(row, 'rating')\n",
        "\n",
        "        if movie in movie_score: #αν έχουμε σχηματίσει βαθμολογία για την ταινία αυτή\n",
        "            pred.append(int(movie_score[movie] > 0)) #heuristic για το αν μια ταινία είναι προτεινόμενη\n",
        "            real.append(int(rating > 3))# έτσι ορίζουμε ότι μια ταινία θα έπρεπε να είναι προτεινόμενη\n",
        "            #η συνθήκη αυτή δεν μπορεί να αλλάξει\n",
        "        else: #δεν μπορούμε να προτείνουμε κάτι για το όποιο δεν έχουμε σχηματίσει εικόνα\n",
        "            pred.append(0)\n",
        "            real.append(int(rating > 3))\n",
        "\n",
        "    return real, pred\n",
        "\n",
        "\n",
        "def get_metrics(real, pred):\n",
        "    metrics = {}\n",
        "    metrics[\"precision\"] = precision_score(real, pred)\n",
        "    metrics[\"recall\"] = recall_score(real, pred)\n",
        "    metrics[\"f1\"] = f1_score(real, pred)\n",
        "    return metrics"
      ],
      "execution_count": null,
      "outputs": []
    },
    {
      "cell_type": "code",
      "metadata": {
        "id": "TwzrT8U8vRhl"
      },
      "source": [
        "# Φορτώνουμε από το runtime τα αρχεία με τις αξιολογήσεις ενός χρήστη\n",
        "\n",
        "train_ratings = pd.read_csv(\"train_ratings.csv\")\n",
        "test_ratings = pd.read_csv(\"test_ratings.csv\")"
      ],
      "execution_count": null,
      "outputs": []
    },
    {
      "cell_type": "code",
      "metadata": {
        "colab": {
          "base_uri": "https://localhost:8080/",
          "height": 49,
          "referenced_widgets": [
            "58bfc834fd6843f9a54057be74b178c4",
            "1f34049c43684fa19832667f2b4300d6",
            "886cc0b1cda944929cb89fb9f0b2152d",
            "2c769b93e26c4afeb92cb2eff8eecaf6",
            "e65009b6463c48b4bd348ad8f4a03954",
            "f12b2f8fb3fd47149c1fd339da3391bb",
            "2e9481a8a06143ad8d86eba5a21bbc97",
            "be26ed24e31f4409b7c520e9a3b0b301"
          ]
        },
        "id": "sUpiyuREuCkY",
        "outputId": "446935bd-09f3-48b3-c1bd-85527758a86d"
      },
      "source": [
        "movie_score = train_recommender(train_ratings, rating_weights, score_weights)\n",
        "real, pred = predict_example(test_ratings, movie_score)\n",
        "print (get_metrics(real, pred))"
      ],
      "execution_count": null,
      "outputs": [
        {
          "output_type": "display_data",
          "data": {
            "application/vnd.jupyter.widget-view+json": {
              "model_id": "58bfc834fd6843f9a54057be74b178c4",
              "version_minor": 0,
              "version_major": 2
            },
            "text/plain": [
              "HBox(children=(FloatProgress(value=1.0, bar_style='info', max=1.0), HTML(value='')))"
            ]
          },
          "metadata": {
            "tags": []
          }
        }
      ]
    },
    {
      "cell_type": "markdown",
      "metadata": {
        "id": "ouacswuM0yuJ"
      },
      "source": [
        "Αξίζει να σημειώσουμε ότι η ελαφρώς καλύτερη τιμή της μετρικής f1 οφείλεται περισσότερο στο γεγονός ότι μπορέσαμε και αξιοποιήσαμε ολόκληρο το training dataset παρά στο ότι το μοντέλο αυτό συμπεριφέρεται όντως καλύτερα από το πιο αναλυτικό που παρουσιάσαμε πιο πάνω."
      ]
    }
  ]
}